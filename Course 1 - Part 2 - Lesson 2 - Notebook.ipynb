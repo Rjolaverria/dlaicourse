{
  "cells": [
    {
      "cell_type": "markdown",
      "metadata": {
        "colab_type": "text",
        "id": "view-in-github"
      },
      "source": [
        "<a href=\"https://colab.research.google.com/github/lmoroney/dlaicourse/blob/master/Course%201%20-%20Part%202%20-%20Lesson%202%20-%20Notebook.ipynb\" target=\"_parent\"><img src=\"https://colab.research.google.com/assets/colab-badge.svg\" alt=\"Open In Colab\"/></a>"
      ]
    },
    {
      "cell_type": "markdown",
      "metadata": {
        "colab_type": "text",
        "id": "rX8mhOLljYeM"
      },
      "source": [
        "##### Copyright 2019 The TensorFlow Authors."
      ]
    },
    {
      "cell_type": "code",
      "execution_count": 0,
      "metadata": {
        "cellView": "form",
        "colab": {},
        "colab_type": "code",
        "id": "BZSlp3DAjdYf"
      },
      "outputs": [],
      "source": [
        "#@title Licensed under the Apache License, Version 2.0 (the \"License\");\n",
        "# you may not use this file except in compliance with the License.\n",
        "# You may obtain a copy of the License at\n",
        "#\n",
        "# https://www.apache.org/licenses/LICENSE-2.0\n",
        "#\n",
        "# Unless required by applicable law or agreed to in writing, software\n",
        "# distributed under the License is distributed on an \"AS IS\" BASIS,\n",
        "# WITHOUT WARRANTIES OR CONDITIONS OF ANY KIND, either express or implied.\n",
        "# See the License for the specific language governing permissions and\n",
        "# limitations under the License."
      ]
    },
    {
      "cell_type": "markdown",
      "metadata": {
        "colab_type": "text",
        "id": "ZIAkIlfmCe1B"
      },
      "source": [
        "# The Hello World of Deep Learning with Neural Networks"
      ]
    },
    {
      "cell_type": "markdown",
      "metadata": {
        "colab_type": "text",
        "id": "fA93WUy1zzWf"
      },
      "source": [
        "Like every first app you should start with something super simple that shows the overall scaffolding for how your code works. \n",
        "\n",
        "In the case of creating neural networks, the sample I like to use is one where it learns the relationship between two numbers. So, for example, if you were writing code for a function like this, you already know the 'rules' — \n",
        "\n",
        "\n",
        "```\n",
        "float hw_function(float x){\n",
        "    float y = (2 * x) - 1;\n",
        "    return y;\n",
        "}\n",
        "```\n",
        "\n",
        "So how would you train a neural network to do the equivalent task? Using data! By feeding it with a set of Xs, and a set of Ys, it should be able to figure out the relationship between them. \n",
        "\n",
        "This is obviously a very different paradigm than what you might be used to, so let's step through it piece by piece.\n"
      ]
    },
    {
      "cell_type": "markdown",
      "metadata": {
        "colab_type": "text",
        "id": "DzbtdRcZDO9B"
      },
      "source": [
        "## Imports\n",
        "\n",
        "Let's start with our imports. Here we are importing TensorFlow and calling it tf for ease of use.\n",
        "\n",
        "We then import a library called numpy, which helps us to represent our data as lists easily and quickly.\n",
        "\n",
        "The framework for defining a neural network as a set of Sequential layers is called keras, so we import that too."
      ]
    },
    {
      "cell_type": "code",
      "execution_count": 1,
      "metadata": {
        "colab": {},
        "colab_type": "code",
        "id": "X9uIpOS2zx7k"
      },
      "outputs": [],
      "source": [
        "import tensorflow as tf\n",
        "import numpy as np\n",
        "from tensorflow import keras"
      ]
    },
    {
      "cell_type": "markdown",
      "metadata": {
        "colab_type": "text",
        "id": "wwJGmDrQ0EoB"
      },
      "source": [
        "## Define and Compile the Neural Network\n",
        "\n",
        "Next we will create the simplest possible neural network. It has 1 layer, and that layer has 1 neuron, and the input shape to it is just 1 value."
      ]
    },
    {
      "cell_type": "code",
      "execution_count": 2,
      "metadata": {
        "colab": {},
        "colab_type": "code",
        "id": "kQFAr_xo0M4T"
      },
      "outputs": [],
      "source": [
        "model = tf.keras.Sequential([keras.layers.Dense(units=1, input_shape=[1])])"
      ]
    },
    {
      "cell_type": "markdown",
      "metadata": {
        "colab_type": "text",
        "id": "KhjZjZ-c0Ok9"
      },
      "source": [
        "Now we compile our Neural Network. When we do so, we have to specify 2 functions, a loss and an optimizer.\n",
        "\n",
        "If you've seen lots of math for machine learning, here's where it's usually used, but in this case it's nicely encapsulated in functions for you. But what happens here — let's explain...\n",
        "\n",
        "We know that in our function, the relationship between the numbers is y=2x-1. \n",
        "\n",
        "When the computer is trying to 'learn' that, it makes a guess...maybe y=10x+10. The LOSS function measures the guessed answers against the known correct answers and measures how well or how badly it did.\n",
        "\n",
        "It then uses the OPTIMIZER function to make another guess. Based on how the loss function went, it will try to minimize the loss. At that point maybe it will come up with somehting like y=5x+5, which, while still pretty bad, is closer to the correct result (i.e. the loss is lower)\n",
        "\n",
        "It will repeat this for the number of EPOCHS which you will see shortly. But first, here's how we tell it to use 'MEAN SQUARED ERROR' for the loss and 'STOCHASTIC GRADIENT DESCENT' for the optimizer. You don't need to understand the math for these yet, but you can see that they work! :)\n",
        "\n",
        "Over time you will learn the different and appropriate loss and optimizer functions for different scenarios. \n"
      ]
    },
    {
      "cell_type": "code",
      "execution_count": 3,
      "metadata": {
        "colab": {},
        "colab_type": "code",
        "id": "m8YQN1H41L-Y"
      },
      "outputs": [],
      "source": [
        "model.compile(optimizer='sgd', loss='mean_squared_error')"
      ]
    },
    {
      "cell_type": "markdown",
      "metadata": {
        "colab_type": "text",
        "id": "5QyOUhFw1OUX"
      },
      "source": [
        "## Providing the Data\n",
        "\n",
        "Next up we'll feed in some data. In this case we are taking 6 xs and 6ys. You can see that the relationship between these is that y=2x-1, so where x = -1, y=-3 etc. etc. \n",
        "\n",
        "A python library called 'Numpy' provides lots of array type data structures that are a defacto standard way of doing it. We declare that we want to use these by specifying the values as an np.array[]"
      ]
    },
    {
      "cell_type": "code",
      "execution_count": 4,
      "metadata": {
        "colab": {},
        "colab_type": "code",
        "id": "4Dxk4q-jzEy4"
      },
      "outputs": [],
      "source": [
        "xs = np.array([-1.0,  0.0, 1.0, 2.0, 3.0, 4.0], dtype=float)\n",
        "ys = np.array([-3.0, -1.0, 1.0, 3.0, 5.0, 7.0], dtype=float)"
      ]
    },
    {
      "cell_type": "markdown",
      "metadata": {
        "colab_type": "text",
        "id": "n_YcWRElnM_b"
      },
      "source": [
        "# Training the Neural Network"
      ]
    },
    {
      "cell_type": "markdown",
      "metadata": {
        "colab_type": "text",
        "id": "c-Jk4dG91dvD"
      },
      "source": [
        "The process of training the neural network, where it 'learns' the relationship between the Xs and Ys is in the **model.fit**  call. This is where it will go through the loop we spoke about above, making a guess, measuring how good or bad it is (aka the loss), using the opimizer to make another guess etc. It will do it for the number of epochs you specify. When you run this code, you'll see the loss on the right hand side."
      ]
    },
    {
      "cell_type": "code",
      "execution_count": 5,
      "metadata": {
        "colab": {},
        "colab_type": "code",
        "id": "lpRrl7WK10Pq",
        "tags": [
          "outputPrepend"
        ]
      },
      "outputs": [
        {
          "output_type": "stream",
          "name": "stdout",
          "text": "===================] - 0s 1ms/step - loss: 0.0032\nEpoch 266/500\n1/1 [==============================] - 0s 781us/step - loss: 0.0032\nEpoch 267/500\n1/1 [==============================] - 0s 1ms/step - loss: 0.0031\nEpoch 268/500\n1/1 [==============================] - 0s 892us/step - loss: 0.0030\nEpoch 269/500\n1/1 [==============================] - 0s 1ms/step - loss: 0.0030\nEpoch 270/500\n1/1 [==============================] - 0s 1ms/step - loss: 0.0029\nEpoch 271/500\n1/1 [==============================] - 0s 1ms/step - loss: 0.0029\nEpoch 272/500\n1/1 [==============================] - 0s 819us/step - loss: 0.0028\nEpoch 273/500\n1/1 [==============================] - 0s 971us/step - loss: 0.0027\nEpoch 274/500\n1/1 [==============================] - 0s 820us/step - loss: 0.0027\nEpoch 275/500\n1/1 [==============================] - 0s 780us/step - loss: 0.0026\nEpoch 276/500\n1/1 [==============================] - 0s 947us/step - loss: 0.0026\nEpoch 277/500\n1/1 [==============================] - 0s 997us/step - loss: 0.0025\nEpoch 278/500\n1/1 [==============================] - 0s 2ms/step - loss: 0.0025\nEpoch 279/500\n1/1 [==============================] - 0s 822us/step - loss: 0.0024\nEpoch 280/500\n1/1 [==============================] - 0s 1ms/step - loss: 0.0024\nEpoch 281/500\n1/1 [==============================] - 0s 859us/step - loss: 0.0023\nEpoch 282/500\n1/1 [==============================] - 0s 11ms/step - loss: 0.0023\nEpoch 283/500\n1/1 [==============================] - 0s 2ms/step - loss: 0.0022\nEpoch 284/500\n1/1 [==============================] - 0s 3ms/step - loss: 0.0022\nEpoch 285/500\n1/1 [==============================] - 0s 2ms/step - loss: 0.0021\nEpoch 286/500\n1/1 [==============================] - 0s 1ms/step - loss: 0.0021\nEpoch 287/500\n1/1 [==============================] - 0s 1ms/step - loss: 0.0021\nEpoch 288/500\n1/1 [==============================] - 0s 739us/step - loss: 0.0020\nEpoch 289/500\n1/1 [==============================] - 0s 2ms/step - loss: 0.0020\nEpoch 290/500\n1/1 [==============================] - 0s 1ms/step - loss: 0.0019\nEpoch 291/500\n1/1 [==============================] - 0s 1ms/step - loss: 0.0019\nEpoch 292/500\n1/1 [==============================] - 0s 942us/step - loss: 0.0019\nEpoch 293/500\n1/1 [==============================] - 0s 2ms/step - loss: 0.0018\nEpoch 294/500\n1/1 [==============================] - 0s 2ms/step - loss: 0.0018\nEpoch 295/500\n1/1 [==============================] - 0s 1ms/step - loss: 0.0017\nEpoch 296/500\n1/1 [==============================] - 0s 2ms/step - loss: 0.0017\nEpoch 297/500\n1/1 [==============================] - 0s 1ms/step - loss: 0.0017\nEpoch 298/500\n1/1 [==============================] - 0s 2ms/step - loss: 0.0016\nEpoch 299/500\n1/1 [==============================] - 0s 1ms/step - loss: 0.0016\nEpoch 300/500\n1/1 [==============================] - 0s 2ms/step - loss: 0.0016\nEpoch 301/500\n1/1 [==============================] - 0s 1ms/step - loss: 0.0015\nEpoch 302/500\n1/1 [==============================] - 0s 1ms/step - loss: 0.0015\nEpoch 303/500\n1/1 [==============================] - 0s 3ms/step - loss: 0.0015\nEpoch 304/500\n1/1 [==============================] - 0s 1ms/step - loss: 0.0014\nEpoch 305/500\n1/1 [==============================] - 0s 2ms/step - loss: 0.0014\nEpoch 306/500\n1/1 [==============================] - 0s 1ms/step - loss: 0.0014\nEpoch 307/500\n1/1 [==============================] - 0s 1ms/step - loss: 0.0014\nEpoch 308/500\n1/1 [==============================] - 0s 1ms/step - loss: 0.0013\nEpoch 309/500\n1/1 [==============================] - 0s 2ms/step - loss: 0.0013\nEpoch 310/500\n1/1 [==============================] - 0s 2ms/step - loss: 0.0013\nEpoch 311/500\n1/1 [==============================] - 0s 2ms/step - loss: 0.0012\nEpoch 312/500\n1/1 [==============================] - 0s 1ms/step - loss: 0.0012\nEpoch 313/500\n1/1 [==============================] - 0s 1ms/step - loss: 0.0012\nEpoch 314/500\n1/1 [==============================] - 0s 853us/step - loss: 0.0012\nEpoch 315/500\n1/1 [==============================] - 0s 878us/step - loss: 0.0011\nEpoch 316/500\n1/1 [==============================] - 0s 638us/step - loss: 0.0011\nEpoch 317/500\n1/1 [==============================] - 0s 654us/step - loss: 0.0011\nEpoch 318/500\n1/1 [==============================] - 0s 713us/step - loss: 0.0011\nEpoch 319/500\n1/1 [==============================] - 0s 978us/step - loss: 0.0011\nEpoch 320/500\n1/1 [==============================] - 0s 2ms/step - loss: 0.0010\nEpoch 321/500\n1/1 [==============================] - 0s 1ms/step - loss: 0.0010\nEpoch 322/500\n1/1 [==============================] - 0s 1ms/step - loss: 9.9354e-04\nEpoch 323/500\n1/1 [==============================] - 0s 1ms/step - loss: 9.7313e-04\nEpoch 324/500\n1/1 [==============================] - 0s 841us/step - loss: 9.5314e-04\nEpoch 325/500\n1/1 [==============================] - 0s 993us/step - loss: 9.3357e-04\nEpoch 326/500\n1/1 [==============================] - 0s 749us/step - loss: 9.1439e-04\nEpoch 327/500\n1/1 [==============================] - 0s 1ms/step - loss: 8.9561e-04\nEpoch 328/500\n1/1 [==============================] - 0s 1ms/step - loss: 8.7721e-04\nEpoch 329/500\n1/1 [==============================] - 0s 2ms/step - loss: 8.5920e-04\nEpoch 330/500\n1/1 [==============================] - 0s 2ms/step - loss: 8.4155e-04\nEpoch 331/500\n1/1 [==============================] - 0s 4ms/step - loss: 8.2426e-04\nEpoch 332/500\n1/1 [==============================] - 0s 2ms/step - loss: 8.0733e-04\nEpoch 333/500\n1/1 [==============================] - 0s 4ms/step - loss: 7.9075e-04\nEpoch 334/500\n1/1 [==============================] - 0s 2ms/step - loss: 7.7451e-04\nEpoch 335/500\n1/1 [==============================] - 0s 1ms/step - loss: 7.5860e-04\nEpoch 336/500\n1/1 [==============================] - 0s 2ms/step - loss: 7.4301e-04\nEpoch 337/500\n1/1 [==============================] - 0s 5ms/step - loss: 7.2775e-04\nEpoch 338/500\n1/1 [==============================] - 0s 1ms/step - loss: 7.1280e-04\nEpoch 339/500\n1/1 [==============================] - 0s 2ms/step - loss: 6.9816e-04\nEpoch 340/500\n1/1 [==============================] - 0s 1ms/step - loss: 6.8382e-04\nEpoch 341/500\n1/1 [==============================] - 0s 2ms/step - loss: 6.6978e-04\nEpoch 342/500\n1/1 [==============================] - 0s 2ms/step - loss: 6.5602e-04\nEpoch 343/500\n1/1 [==============================] - 0s 1ms/step - loss: 6.4254e-04\nEpoch 344/500\n1/1 [==============================] - 0s 980us/step - loss: 6.2934e-04\nEpoch 345/500\n1/1 [==============================] - 0s 817us/step - loss: 6.1642e-04\nEpoch 346/500\n1/1 [==============================] - 0s 1ms/step - loss: 6.0376e-04\nEpoch 347/500\n1/1 [==============================] - 0s 951us/step - loss: 5.9135e-04\nEpoch 348/500\n1/1 [==============================] - 0s 1ms/step - loss: 5.7921e-04\nEpoch 349/500\n1/1 [==============================] - 0s 712us/step - loss: 5.6731e-04\nEpoch 350/500\n1/1 [==============================] - ETA: 0s - loss: 5.5566e-01/1 [==============================] - 0s 1ms/step - loss: 5.5566e-04\nEpoch 351/500\n1/1 [==============================] - 0s 1ms/step - loss: 5.4425e-04\nEpoch 352/500\n1/1 [==============================] - 0s 642us/step - loss: 5.3307e-04\nEpoch 353/500\n1/1 [==============================] - 0s 1ms/step - loss: 5.2212e-04\nEpoch 354/500\n1/1 [==============================] - 0s 757us/step - loss: 5.1139e-04\nEpoch 355/500\n1/1 [==============================] - 0s 960us/step - loss: 5.0089e-04\nEpoch 356/500\n1/1 [==============================] - 0s 1ms/step - loss: 4.9060e-04\nEpoch 357/500\n1/1 [==============================] - 0s 779us/step - loss: 4.8052e-04\nEpoch 358/500\n1/1 [==============================] - 0s 737us/step - loss: 4.7065e-04\nEpoch 359/500\n1/1 [==============================] - 0s 987us/step - loss: 4.6098e-04\nEpoch 360/500\n1/1 [==============================] - 0s 710us/step - loss: 4.5151e-04\nEpoch 361/500\n1/1 [==============================] - 0s 2ms/step - loss: 4.4224e-04\nEpoch 362/500\n1/1 [==============================] - 0s 1ms/step - loss: 4.3316e-04\nEpoch 363/500\n1/1 [==============================] - 0s 847us/step - loss: 4.2426e-04\nEpoch 364/500\n1/1 [==============================] - 0s 784us/step - loss: 4.1555e-04\nEpoch 365/500\n1/1 [==============================] - 0s 1ms/step - loss: 4.0701e-04\nEpoch 366/500\n1/1 [==============================] - 0s 898us/step - loss: 3.9865e-04\nEpoch 367/500\n1/1 [==============================] - 0s 1ms/step - loss: 3.9046e-04\nEpoch 368/500\n1/1 [==============================] - 0s 855us/step - loss: 3.8244e-04\nEpoch 369/500\n1/1 [==============================] - 0s 758us/step - loss: 3.7459e-04\nEpoch 370/500\n1/1 [==============================] - 0s 936us/step - loss: 3.6689e-04\nEpoch 371/500\n1/1 [==============================] - 0s 739us/step - loss: 3.5935e-04\nEpoch 372/500\n1/1 [==============================] - 0s 862us/step - loss: 3.5197e-04\nEpoch 373/500\n1/1 [==============================] - 0s 744us/step - loss: 3.4474e-04\nEpoch 374/500\n1/1 [==============================] - 0s 694us/step - loss: 3.3766e-04\nEpoch 375/500\n1/1 [==============================] - 0s 705us/step - loss: 3.3073e-04\nEpoch 376/500\n1/1 [==============================] - 0s 1ms/step - loss: 3.2394e-04\nEpoch 377/500\n1/1 [==============================] - 0s 699us/step - loss: 3.1728e-04\nEpoch 378/500\n1/1 [==============================] - 0s 595us/step - loss: 3.1076e-04\nEpoch 379/500\n1/1 [==============================] - 0s 973us/step - loss: 3.0438e-04\nEpoch 380/500\n1/1 [==============================] - 0s 650us/step - loss: 2.9813e-04\nEpoch 381/500\n1/1 [==============================] - 0s 730us/step - loss: 2.9200e-04\nEpoch 382/500\n1/1 [==============================] - 0s 630us/step - loss: 2.8601e-04\nEpoch 383/500\n1/1 [==============================] - 0s 695us/step - loss: 2.8013e-04\nEpoch 384/500\n1/1 [==============================] - 0s 735us/step - loss: 2.7438e-04\nEpoch 385/500\n1/1 [==============================] - 0s 749us/step - loss: 2.6874e-04\nEpoch 386/500\n1/1 [==============================] - 0s 777us/step - loss: 2.6322e-04\nEpoch 387/500\n1/1 [==============================] - 0s 535us/step - loss: 2.5782e-04\nEpoch 388/500\n1/1 [==============================] - 0s 612us/step - loss: 2.5252e-04\nEpoch 389/500\n1/1 [==============================] - 0s 551us/step - loss: 2.4733e-04\nEpoch 390/500\n1/1 [==============================] - 0s 558us/step - loss: 2.4225e-04\nEpoch 391/500\n1/1 [==============================] - 0s 618us/step - loss: 2.3728e-04\nEpoch 392/500\n1/1 [==============================] - 0s 800us/step - loss: 2.3240e-04\nEpoch 393/500\n1/1 [==============================] - 0s 610us/step - loss: 2.2763e-04\nEpoch 394/500\n1/1 [==============================] - 0s 604us/step - loss: 2.2295e-04\nEpoch 395/500\n1/1 [==============================] - 0s 558us/step - loss: 2.1837e-04\nEpoch 396/500\n1/1 [==============================] - 0s 672us/step - loss: 2.1389e-04\nEpoch 397/500\n1/1 [==============================] - 0s 651us/step - loss: 2.0950e-04\nEpoch 398/500\n1/1 [==============================] - 0s 739us/step - loss: 2.0519e-04\nEpoch 399/500\n1/1 [==============================] - 0s 789us/step - loss: 2.0098e-04\nEpoch 400/500\n1/1 [==============================] - 0s 609us/step - loss: 1.9685e-04\nEpoch 401/500\n1/1 [==============================] - 0s 602us/step - loss: 1.9280e-04\nEpoch 402/500\n1/1 [==============================] - 0s 708us/step - loss: 1.8884e-04\nEpoch 403/500\n1/1 [==============================] - 0s 566us/step - loss: 1.8496e-04\nEpoch 404/500\n1/1 [==============================] - 0s 651us/step - loss: 1.8116e-04\nEpoch 405/500\n1/1 [==============================] - 0s 646us/step - loss: 1.7745e-04\nEpoch 406/500\n1/1 [==============================] - 0s 569us/step - loss: 1.7380e-04\nEpoch 407/500\n1/1 [==============================] - 0s 623us/step - loss: 1.7023e-04\nEpoch 408/500\n1/1 [==============================] - 0s 525us/step - loss: 1.6673e-04\nEpoch 409/500\n1/1 [==============================] - 0s 545us/step - loss: 1.6331e-04\nEpoch 410/500\n1/1 [==============================] - 0s 551us/step - loss: 1.5995e-04\nEpoch 411/500\n1/1 [==============================] - 0s 527us/step - loss: 1.5667e-04\nEpoch 412/500\n1/1 [==============================] - 0s 585us/step - loss: 1.5345e-04\nEpoch 413/500\n1/1 [==============================] - 0s 710us/step - loss: 1.5030e-04\nEpoch 414/500\n1/1 [==============================] - 0s 557us/step - loss: 1.4721e-04\nEpoch 415/500\n1/1 [==============================] - 0s 544us/step - loss: 1.4418e-04\nEpoch 416/500\n1/1 [==============================] - 0s 596us/step - loss: 1.4122e-04\nEpoch 417/500\n1/1 [==============================] - 0s 3ms/step - loss: 1.3832e-04\nEpoch 418/500\n1/1 [==============================] - 0s 637us/step - loss: 1.3548e-04\nEpoch 419/500\n1/1 [==============================] - 0s 595us/step - loss: 1.3270e-04\nEpoch 420/500\n1/1 [==============================] - 0s 766us/step - loss: 1.2997e-04\nEpoch 421/500\n1/1 [==============================] - 0s 641us/step - loss: 1.2730e-04\nEpoch 422/500\n1/1 [==============================] - 0s 674us/step - loss: 1.2469e-04\nEpoch 423/500\n1/1 [==============================] - 0s 897us/step - loss: 1.2213e-04\nEpoch 424/500\n1/1 [==============================] - 0s 594us/step - loss: 1.1962e-04\nEpoch 425/500\n1/1 [==============================] - 0s 643us/step - loss: 1.1716e-04\nEpoch 426/500\n1/1 [==============================] - 0s 513us/step - loss: 1.1475e-04\nEpoch 427/500\n1/1 [==============================] - 0s 564us/step - loss: 1.1240e-04\nEpoch 428/500\n1/1 [==============================] - 0s 552us/step - loss: 1.1009e-04\nEpoch 429/500\n1/1 [==============================] - 0s 646us/step - loss: 1.0783e-04\nEpoch 430/500\n1/1 [==============================] - 0s 546us/step - loss: 1.0561e-04\nEpoch 431/500\n1/1 [==============================] - 0s 477us/step - loss: 1.0344e-04\nEpoch 432/500\n1/1 [==============================] - 0s 646us/step - loss: 1.0132e-04\nEpoch 433/500\n1/1 [==============================] - 0s 667us/step - loss: 9.9240e-05\nEpoch 434/500\n1/1 [==============================] - 0s 541us/step - loss: 9.7200e-05\nEpoch 435/500\n1/1 [==============================] - 0s 491us/step - loss: 9.5204e-05\nEpoch 436/500\n1/1 [==============================] - 0s 525us/step - loss: 9.3249e-05\nEpoch 437/500\n1/1 [==============================] - 0s 592us/step - loss: 9.1332e-05\nEpoch 438/500\n1/1 [==============================] - 0s 524us/step - loss: 8.9456e-05\nEpoch 439/500\n1/1 [==============================] - 0s 458us/step - loss: 8.7618e-05\nEpoch 440/500\n1/1 [==============================] - 0s 665us/step - loss: 8.5818e-05\nEpoch 441/500\n1/1 [==============================] - 0s 774us/step - loss: 8.4057e-05\nEpoch 442/500\n1/1 [==============================] - 0s 488us/step - loss: 8.2330e-05\nEpoch 443/500\n1/1 [==============================] - 0s 724us/step - loss: 8.0639e-05\nEpoch 444/500\n1/1 [==============================] - 0s 595us/step - loss: 7.8983e-05\nEpoch 445/500\n1/1 [==============================] - 0s 529us/step - loss: 7.7361e-05\nEpoch 446/500\n1/1 [==============================] - 0s 535us/step - loss: 7.5771e-05\nEpoch 447/500\n1/1 [==============================] - 0s 534us/step - loss: 7.4215e-05\nEpoch 448/500\n1/1 [==============================] - 0s 528us/step - loss: 7.2690e-05\nEpoch 449/500\n1/1 [==============================] - 0s 485us/step - loss: 7.1197e-05\nEpoch 450/500\n1/1 [==============================] - 0s 480us/step - loss: 6.9735e-05\nEpoch 451/500\n1/1 [==============================] - 0s 512us/step - loss: 6.8302e-05\nEpoch 452/500\n1/1 [==============================] - 0s 558us/step - loss: 6.6899e-05\nEpoch 453/500\n1/1 [==============================] - 0s 519us/step - loss: 6.5526e-05\nEpoch 454/500\n1/1 [==============================] - 0s 547us/step - loss: 6.4179e-05\nEpoch 455/500\n1/1 [==============================] - 0s 687us/step - loss: 6.2861e-05\nEpoch 456/500\n1/1 [==============================] - 0s 693us/step - loss: 6.1569e-05\nEpoch 457/500\n1/1 [==============================] - 0s 586us/step - loss: 6.0306e-05\nEpoch 458/500\n1/1 [==============================] - 0s 667us/step - loss: 5.9066e-05\nEpoch 459/500\n1/1 [==============================] - 0s 542us/step - loss: 5.7854e-05\nEpoch 460/500\n1/1 [==============================] - 0s 517us/step - loss: 5.6665e-05\nEpoch 461/500\n1/1 [==============================] - 0s 470us/step - loss: 5.5501e-05\nEpoch 462/500\n1/1 [==============================] - 0s 529us/step - loss: 5.4361e-05\nEpoch 463/500\n1/1 [==============================] - 0s 453us/step - loss: 5.3244e-05\nEpoch 464/500\n1/1 [==============================] - 0s 596us/step - loss: 5.2151e-05\nEpoch 465/500\n1/1 [==============================] - 0s 624us/step - loss: 5.1079e-05\nEpoch 466/500\n1/1 [==============================] - 0s 455us/step - loss: 5.0030e-05\nEpoch 467/500\n1/1 [==============================] - 0s 448us/step - loss: 4.9002e-05\nEpoch 468/500\n1/1 [==============================] - 0s 492us/step - loss: 4.7997e-05\nEpoch 469/500\n1/1 [==============================] - 0s 471us/step - loss: 4.7010e-05\nEpoch 470/500\n1/1 [==============================] - 0s 505us/step - loss: 4.6045e-05\nEpoch 471/500\n1/1 [==============================] - 0s 494us/step - loss: 4.5099e-05\nEpoch 472/500\n1/1 [==============================] - 0s 445us/step - loss: 4.4173e-05\nEpoch 473/500\n1/1 [==============================] - 0s 606us/step - loss: 4.3265e-05\nEpoch 474/500\n1/1 [==============================] - 0s 490us/step - loss: 4.2377e-05\nEpoch 475/500\n1/1 [==============================] - 0s 488us/step - loss: 4.1506e-05\nEpoch 476/500\n1/1 [==============================] - 0s 453us/step - loss: 4.0653e-05\nEpoch 477/500\n1/1 [==============================] - ETA: 0s - loss: 3.9819e-01/1 [==============================] - 0s 573us/step - loss: 3.9819e-05\nEpoch 478/500\n1/1 [==============================] - 0s 694us/step - loss: 3.9001e-05\nEpoch 479/500\n1/1 [==============================] - 0s 664us/step - loss: 3.8199e-05\nEpoch 480/500\n1/1 [==============================] - 0s 742us/step - loss: 3.7415e-05\nEpoch 481/500\n1/1 [==============================] - 0s 726us/step - loss: 3.6646e-05\nEpoch 482/500\n1/1 [==============================] - 0s 1ms/step - loss: 3.5893e-05\nEpoch 483/500\n1/1 [==============================] - 0s 922us/step - loss: 3.5156e-05\nEpoch 484/500\n1/1 [==============================] - 0s 2ms/step - loss: 3.4434e-05\nEpoch 485/500\n1/1 [==============================] - 0s 2ms/step - loss: 3.3728e-05\nEpoch 486/500\n1/1 [==============================] - 0s 893us/step - loss: 3.3034e-05\nEpoch 487/500\n1/1 [==============================] - 0s 2ms/step - loss: 3.2356e-05\nEpoch 488/500\n1/1 [==============================] - 0s 910us/step - loss: 3.1691e-05\nEpoch 489/500\n1/1 [==============================] - 0s 4ms/step - loss: 3.1040e-05\nEpoch 490/500\n1/1 [==============================] - 0s 3ms/step - loss: 3.0403e-05\nEpoch 491/500\n1/1 [==============================] - 0s 1ms/step - loss: 2.9778e-05\nEpoch 492/500\n1/1 [==============================] - 0s 4ms/step - loss: 2.9166e-05\nEpoch 493/500\n1/1 [==============================] - 0s 3ms/step - loss: 2.8567e-05\nEpoch 494/500\n1/1 [==============================] - 0s 16ms/step - loss: 2.7980e-05\nEpoch 495/500\n1/1 [==============================] - 0s 8ms/step - loss: 2.7406e-05\nEpoch 496/500\n1/1 [==============================] - 0s 1ms/step - loss: 2.6842e-05\nEpoch 497/500\n1/1 [==============================] - 0s 1ms/step - loss: 2.6291e-05\nEpoch 498/500\n1/1 [==============================] - 0s 996us/step - loss: 2.5751e-05\nEpoch 499/500\n1/1 [==============================] - 0s 773us/step - loss: 2.5222e-05\nEpoch 500/500\n1/1 [==============================] - 0s 1ms/step - loss: 2.4704e-05\n"
        },
        {
          "output_type": "execute_result",
          "data": {
            "text/plain": "<tensorflow.python.keras.callbacks.History at 0x143455e20>"
          },
          "metadata": {},
          "execution_count": 5
        }
      ],
      "source": [
        "model.fit(xs, ys, epochs=500)"
      ]
    },
    {
      "cell_type": "markdown",
      "metadata": {
        "colab_type": "text",
        "id": "kaFIr71H2OZ-"
      },
      "source": [
        "Ok, now you have a model that has been trained to learn the relationship between X and Y. You can use the **model.predict** method to have it figure out the Y for a previously unknown X. So, for example, if X = 10, what do you think Y will be? Take a guess before you run this code:"
      ]
    },
    {
      "cell_type": "code",
      "execution_count": 6,
      "metadata": {
        "colab": {},
        "colab_type": "code",
        "id": "oxNzL4lS2Gui",
        "tags": []
      },
      "outputs": [
        {
          "output_type": "stream",
          "name": "stdout",
          "text": "[[18.9855]]\n"
        }
      ],
      "source": [
        "print(model.predict([10.0]))"
      ]
    },
    {
      "cell_type": "markdown",
      "metadata": {
        "colab_type": "text",
        "id": "btF2CSFH2iEX"
      },
      "source": [
        "You might have thought 19, right? But it ended up being a little under. Why do you think that is? \n",
        "\n",
        "Remember that neural networks deal with probabilities, so given the data that we fed the NN with, it calculated that there is a very high probability that the relationship between X and Y is Y=2X-1, but with only 6 data points we can't know for sure. As a result, the result for 10 is very close to 19, but not necessarily 19. \n",
        "\n",
        "As you work with neural networks, you'll see this pattern recurring. You will almost always deal with probabilities, not certainties, and will do a little bit of coding to figure out what the result is based on the probabilities, particularly when it comes to classification.\n"
      ]
    }
  ],
  "metadata": {
    "colab": {
      "include_colab_link": true,
      "name": "Course 1 - Part 2 - Lesson 2 - Notebook.ipynb",
      "provenance": [],
      "toc_visible": true
    },
    "kernelspec": {
      "display_name": "Python 3.7.7 64-bit",
      "name": "python37764bit365169af7bd545d28c981927ca7c3295"
    }
  },
  "nbformat": 4,
  "nbformat_minor": 0
}