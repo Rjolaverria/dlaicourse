{
  "cells": [
    {
      "cell_type": "markdown",
      "metadata": {
        "colab_type": "text",
        "id": "view-in-github"
      },
      "source": [
        "<a href=\"https://colab.research.google.com/github/lmoroney/dlaicourse/blob/master/Course%201%20-%20Part%206%20-%20Lesson%202%20-%20Notebook.ipynb\" target=\"_parent\"><img src=\"https://colab.research.google.com/assets/colab-badge.svg\" alt=\"Open In Colab\"/></a>"
      ]
    },
    {
      "cell_type": "markdown",
      "metadata": {
        "colab_type": "text",
        "id": "rX8mhOLljYeM"
      },
      "source": [
        "##### Copyright 2019 The TensorFlow Authors."
      ]
    },
    {
      "cell_type": "code",
      "execution_count": 0,
      "metadata": {
        "cellView": "form",
        "colab": {},
        "colab_type": "code",
        "id": "BZSlp3DAjdYf"
      },
      "outputs": [],
      "source": [
        "#@title Licensed under the Apache License, Version 2.0 (the \"License\");\n",
        "# you may not use this file except in compliance with the License.\n",
        "# You may obtain a copy of the License at\n",
        "#\n",
        "# https://www.apache.org/licenses/LICENSE-2.0\n",
        "#\n",
        "# Unless required by applicable law or agreed to in writing, software\n",
        "# distributed under the License is distributed on an \"AS IS\" BASIS,\n",
        "# WITHOUT WARRANTIES OR CONDITIONS OF ANY KIND, either express or implied.\n",
        "# See the License for the specific language governing permissions and\n",
        "# limitations under the License."
      ]
    },
    {
      "source": [
        "#Improving Computer Vision Accuracy using Convolutions\n",
        "\n",
        "In the previous lessons you saw how to do fashion recognition using a Deep Neural Network (DNN) containing three layers -- the input layer (in the shape of the data), the output layer (in the shape of the desired output) and a hidden layer. You experimented with the impact of different sizes of hidden layer, number of training epochs etc on the final accuracy.\n",
        "\n",
        "For convenience, here's the entire code again. Run it and take a note of the test accuracy that is printed out at the end. "
      ],
      "cell_type": "markdown",
      "metadata": {
        "colab_type": "text",
        "id": "R6gHiH-I7uFa"
      }
    },
    {
      "cell_type": "code",
      "execution_count": 1,
      "metadata": {
        "colab": {
          "height": 207
        },
        "colab_type": "code",
        "id": "xcsRtq9OLorS",
        "outputId": "027ddd16-b2d9-41a0-85aa-9da6275085e9",
        "tags": []
      },
      "outputs": [
        {
          "output_type": "stream",
          "name": "stdout",
          "text": "Epoch 1/5\n1875/1875 [==============================] - 1s 742us/step - loss: 0.5016 - accuracy: 0.8245\nEpoch 2/5\n1875/1875 [==============================] - 1s 691us/step - loss: 0.3759 - accuracy: 0.8649\nEpoch 3/5\n1875/1875 [==============================] - 1s 696us/step - loss: 0.3406 - accuracy: 0.8759\nEpoch 4/5\n1875/1875 [==============================] - 2s 1ms/step - loss: 0.3135 - accuracy: 0.8856\nEpoch 5/5\n1875/1875 [==============================] - 1s 796us/step - loss: 0.2939 - accuracy: 0.8918\n313/313 [==============================] - 0s 544us/step - loss: 0.3510 - accuracy: 0.8750\n"
        }
      ],
      "source": [
        "import tensorflow as tf\n",
        "\n",
        "# Get Data\n",
        "mnist = tf.keras.datasets.fashion_mnist\n",
        "(training_images, training_labels), (test_images, test_labels) = mnist.load_data()\n",
        "\n",
        "# Normalize\n",
        "training_images=training_images / 255.0\n",
        "test_images=test_images / 255.0\n",
        "\n",
        "# Build and fit model\n",
        "model = tf.keras.models.Sequential([\n",
        "  tf.keras.layers.Flatten(),\n",
        "  tf.keras.layers.Dense(128, activation=tf.nn.relu),\n",
        "  tf.keras.layers.Dense(10, activation=tf.nn.softmax)\n",
        "])\n",
        "model.compile(optimizer='adam', loss='sparse_categorical_crossentropy', metrics=['accuracy'])\n",
        "model.fit(training_images, training_labels, epochs=5)\n",
        "\n",
        "# Test\n",
        "test_loss = model.evaluate(test_images, test_labels)"
      ]
    },
    {
      "cell_type": "markdown",
      "metadata": {
        "colab_type": "text",
        "id": "zldEXSsF8Noz"
      },
      "source": [
        "Your accuracy is probably about 89% on training and 87% on validation...not bad...But how do you make that even better? One way is to use something called Convolutions. I'm not going to details on Convolutions here, but the ultimate concept is that they narrow down the content of the image to focus on specific, distinct, details. \n",
        "\n",
        "If you've ever done image processing using a filter (like this: https://en.wikipedia.org/wiki/Kernel_(image_processing)) then convolutions will look very familiar.\n",
        "\n",
        "In short, you take an array (usually 3x3 or 5x5) and pass it over the image. By changing the underlying pixels based on the formula within that matrix, you can do things like edge detection. So, for example, if you look at the above link, you'll see a 3x3 that is defined for edge detection where the middle cell is 8, and all of its neighbors are -1. In this case, for each pixel, you would multiply its value by 8, then subtract the value of each neighbor. Do this for every pixel, and you'll end up with a new image that has the edges enhanced.\n",
        "\n",
        "This is perfect for computer vision, because often it's features that can get highlighted like this that distinguish one item for another, and the amount of information needed is then much less...because you'll just train on the highlighted features.\n",
        "\n",
        "That's the concept of Convolutional Neural Networks. Add some layers to do convolution before you have the dense layers, and then the information going to the dense layers is more focussed, and possibly more accurate.\n",
        "\n",
        "Run the below code -- this is the same neural network as earlier, but this time with Convolutional layers added first. It will take longer, but look at the impact on the accuracy:"
      ]
    },
    {
      "cell_type": "code",
      "execution_count": 7,
      "metadata": {
        "colab": {
          "height": 605
        },
        "colab_type": "code",
        "id": "C0tFgT1MMKi6",
        "outputId": "b9c48f3c-639a-4c14-ebbe-657cacca81f8",
        "tags": []
      },
      "outputs": [
        {
          "output_type": "stream",
          "name": "stdout",
          "text": "Model: \"sequential_4\"\n_________________________________________________________________\nLayer (type)                 Output Shape              Param #   \n=================================================================\nconv2d_6 (Conv2D)            (None, 26, 26, 64)        640       \n_________________________________________________________________\nmax_pooling2d_6 (MaxPooling2 (None, 13, 13, 64)        0         \n_________________________________________________________________\nconv2d_7 (Conv2D)            (None, 11, 11, 64)        36928     \n_________________________________________________________________\nmax_pooling2d_7 (MaxPooling2 (None, 5, 5, 64)          0         \n_________________________________________________________________\nflatten_4 (Flatten)          (None, 1600)              0         \n_________________________________________________________________\ndense_8 (Dense)              (None, 128)               204928    \n_________________________________________________________________\ndense_9 (Dense)              (None, 10)                1290      \n=================================================================\nTotal params: 243,786\nTrainable params: 243,786\nNon-trainable params: 0\n_________________________________________________________________\nEpoch 1/5\n1875/1875 [==============================] - 37s 20ms/step - loss: 0.4361 - accuracy: 0.8411\nEpoch 2/5\n1875/1875 [==============================] - 38s 20ms/step - loss: 0.2913 - accuracy: 0.8932\nEpoch 3/5\n1875/1875 [==============================] - 36s 19ms/step - loss: 0.2463 - accuracy: 0.9087\nEpoch 4/5\n1875/1875 [==============================] - 38s 20ms/step - loss: 0.2166 - accuracy: 0.9178\nEpoch 5/5\n1875/1875 [==============================] - 37s 20ms/step - loss: 0.1906 - accuracy: 0.9284\n313/313 [==============================] - 1s 3ms/step - loss: 0.2450 - accuracy: 0.9138\n"
        }
      ],
      "source": [
        "import tensorflow as tf\n",
        "\n",
        "# Get Data\n",
        "mnist = tf.keras.datasets.fashion_mnist\n",
        "(training_images, training_labels), (test_images, test_labels) = mnist.load_data()\n",
        "\n",
        "# Normalize\n",
        "training_images=training_images.reshape(60000, 28, 28, 1)\n",
        "training_images=training_images / 255.0\n",
        "test_images = test_images.reshape(10000, 28, 28, 1)\n",
        "test_images=test_images/255.0\n",
        "\n",
        "# Build and fit model\n",
        "model = tf.keras.models.Sequential([\n",
        "  tf.keras.layers.Conv2D(64, (3,3), activation='relu', input_shape=(28, 28,1)),\n",
        "  tf.keras.layers.MaxPooling2D(2, 2),\n",
        "  tf.keras.layers.Conv2D(64, (3,3), activation='relu'),\n",
        "  tf.keras.layers.MaxPooling2D(2,2),\n",
        "  tf.keras.layers.Flatten(),\n",
        "  tf.keras.layers.Dense(128, activation='relu'),\n",
        "  tf.keras.layers.Dense(10, activation='softmax')\n",
        "])\n",
        "model.compile(optimizer='adam', loss='sparse_categorical_crossentropy', metrics=['accuracy'])\n",
        "model.summary()\n",
        "model.fit(training_images, training_labels, epochs=5)\n",
        "\n",
        "# Evaluate\n",
        "test_loss = model.evaluate(test_images, test_labels)\n"
      ]
    },
    {
      "cell_type": "markdown",
      "metadata": {
        "colab_type": "text",
        "id": "uRLfZ0jt-fQI"
      },
      "source": [
        "It's likely gone up to about 93% on the training data and 91% on the validation data. \n",
        "\n",
        "That's significant, and a step in the right direction!\n",
        "\n",
        "Try running it for more epochs -- say about 20, and explore the results! But while the results might seem really good, the validation results may actually go down, due to something called 'overfitting' which will be discussed later. \n",
        "\n",
        "(In a nutshell, 'overfitting' occurs when the network learns the data from the training set really well, but it's too specialised to only that data, and as a result is less effective at seeing *other* data. For example, if all your life you only saw red shoes, then when you see a red shoe you would be very good at identifying it, but blue suade shoes might confuse you...and you know you should never mess with my blue suede shoes.)\n",
        "\n",
        "Then, look at the code again, and see, step by step how the Convolutions were built:"
      ]
    },
    {
      "cell_type": "markdown",
      "metadata": {
        "colab_type": "text",
        "id": "RaLX5cgI_JDb"
      },
      "source": [
        "Step 1 is to gather the data. You'll notice that there's a bit of a change here in that the training data needed to be reshaped. That's because the first convolution expects a single tensor containing everything, so instead of 60,000 28x28x1 items in a list, we have a single 4D list that is 60,000x28x28x1, and the same for the test images. If you don't do this, you'll get an error when training as the Convolutions do not recognize the shape. \n",
        "\n",
        "\n",
        "\n",
        "```\n",
        "import tensorflow as tf\n",
        "mnist = tf.keras.datasets.fashion_mnist\n",
        "(training_images, training_labels), (test_images, test_labels) = mnist.load_data()\n",
        "training_images=training_images.reshape(60000, 28, 28, 1)\n",
        "training_images=training_images / 255.0\n",
        "test_images = test_images.reshape(10000, 28, 28, 1)\n",
        "test_images=test_images/255.0\n",
        "```\n"
      ]
    },
    {
      "cell_type": "code",
      "execution_count": 4,
      "metadata": {
        "tags": []
      },
      "outputs": [
        {
          "output_type": "stream",
          "name": "stdout",
          "text": "[[[0 0 0 ... 0 0 0]\n  [0 0 0 ... 0 0 0]\n  [0 0 0 ... 0 0 0]\n  ...\n  [0 0 0 ... 0 0 0]\n  [0 0 0 ... 0 0 0]\n  [0 0 0 ... 0 0 0]]\n\n [[0 0 0 ... 0 0 0]\n  [0 0 0 ... 0 0 0]\n  [0 0 0 ... 0 0 0]\n  ...\n  [0 0 0 ... 0 0 0]\n  [0 0 0 ... 0 0 0]\n  [0 0 0 ... 0 0 0]]\n\n [[0 0 0 ... 0 0 0]\n  [0 0 0 ... 0 0 0]\n  [0 0 0 ... 0 0 0]\n  ...\n  [0 0 0 ... 0 0 0]\n  [0 0 0 ... 0 0 0]\n  [0 0 0 ... 0 0 0]]\n\n ...\n\n [[0 0 0 ... 0 0 0]\n  [0 0 0 ... 0 0 0]\n  [0 0 0 ... 0 0 0]\n  ...\n  [0 0 0 ... 0 0 0]\n  [0 0 0 ... 0 0 0]\n  [0 0 0 ... 0 0 0]]\n\n [[0 0 0 ... 0 0 0]\n  [0 0 0 ... 0 0 0]\n  [0 0 0 ... 0 0 0]\n  ...\n  [0 0 0 ... 0 0 0]\n  [0 0 0 ... 0 0 0]\n  [0 0 0 ... 0 0 0]]\n\n [[0 0 0 ... 0 0 0]\n  [0 0 0 ... 0 0 0]\n  [0 0 0 ... 0 0 0]\n  ...\n  [0 0 0 ... 0 0 0]\n  [0 0 0 ... 0 0 0]\n  [0 0 0 ... 0 0 0]]] \n\n[[[[0]\n   [0]\n   [0]\n   ...\n   [0]\n   [0]\n   [0]]\n\n  [[0]\n   [0]\n   [0]\n   ...\n   [0]\n   [0]\n   [0]]\n\n  [[0]\n   [0]\n   [0]\n   ...\n   [0]\n   [0]\n   [0]]\n\n  ...\n\n  [[0]\n   [0]\n   [0]\n   ...\n   [0]\n   [0]\n   [0]]\n\n  [[0]\n   [0]\n   [0]\n   ...\n   [0]\n   [0]\n   [0]]\n\n  [[0]\n   [0]\n   [0]\n   ...\n   [0]\n   [0]\n   [0]]]\n\n\n [[[0]\n   [0]\n   [0]\n   ...\n   [0]\n   [0]\n   [0]]\n\n  [[0]\n   [0]\n   [0]\n   ...\n   [0]\n   [0]\n   [0]]\n\n  [[0]\n   [0]\n   [0]\n   ...\n   [0]\n   [0]\n   [0]]\n\n  ...\n\n  [[0]\n   [0]\n   [0]\n   ...\n   [0]\n   [0]\n   [0]]\n\n  [[0]\n   [0]\n   [0]\n   ...\n   [0]\n   [0]\n   [0]]\n\n  [[0]\n   [0]\n   [0]\n   ...\n   [0]\n   [0]\n   [0]]]\n\n\n [[[0]\n   [0]\n   [0]\n   ...\n   [0]\n   [0]\n   [0]]\n\n  [[0]\n   [0]\n   [0]\n   ...\n   [0]\n   [0]\n   [0]]\n\n  [[0]\n   [0]\n   [0]\n   ...\n   [0]\n   [0]\n   [0]]\n\n  ...\n\n  [[0]\n   [0]\n   [0]\n   ...\n   [0]\n   [0]\n   [0]]\n\n  [[0]\n   [0]\n   [0]\n   ...\n   [0]\n   [0]\n   [0]]\n\n  [[0]\n   [0]\n   [0]\n   ...\n   [0]\n   [0]\n   [0]]]\n\n\n ...\n\n\n [[[0]\n   [0]\n   [0]\n   ...\n   [0]\n   [0]\n   [0]]\n\n  [[0]\n   [0]\n   [0]\n   ...\n   [0]\n   [0]\n   [0]]\n\n  [[0]\n   [0]\n   [0]\n   ...\n   [0]\n   [0]\n   [0]]\n\n  ...\n\n  [[0]\n   [0]\n   [0]\n   ...\n   [0]\n   [0]\n   [0]]\n\n  [[0]\n   [0]\n   [0]\n   ...\n   [0]\n   [0]\n   [0]]\n\n  [[0]\n   [0]\n   [0]\n   ...\n   [0]\n   [0]\n   [0]]]\n\n\n [[[0]\n   [0]\n   [0]\n   ...\n   [0]\n   [0]\n   [0]]\n\n  [[0]\n   [0]\n   [0]\n   ...\n   [0]\n   [0]\n   [0]]\n\n  [[0]\n   [0]\n   [0]\n   ...\n   [0]\n   [0]\n   [0]]\n\n  ...\n\n  [[0]\n   [0]\n   [0]\n   ...\n   [0]\n   [0]\n   [0]]\n\n  [[0]\n   [0]\n   [0]\n   ...\n   [0]\n   [0]\n   [0]]\n\n  [[0]\n   [0]\n   [0]\n   ...\n   [0]\n   [0]\n   [0]]]\n\n\n [[[0]\n   [0]\n   [0]\n   ...\n   [0]\n   [0]\n   [0]]\n\n  [[0]\n   [0]\n   [0]\n   ...\n   [0]\n   [0]\n   [0]]\n\n  [[0]\n   [0]\n   [0]\n   ...\n   [0]\n   [0]\n   [0]]\n\n  ...\n\n  [[0]\n   [0]\n   [0]\n   ...\n   [0]\n   [0]\n   [0]]\n\n  [[0]\n   [0]\n   [0]\n   ...\n   [0]\n   [0]\n   [0]]\n\n  [[0]\n   [0]\n   [0]\n   ...\n   [0]\n   [0]\n   [0]]]]\n"
        }
      ],
      "source": [
        "import tensorflow as tf\n",
        "mnist = tf.keras.datasets.fashion_mnist\n",
        "(training_images, training_labels), (test_images, test_labels) = mnist.load_data()\n",
        "training_images=training_images.reshape(60000, 28, 28, 1)\n",
        "training_images=training_images / 255.0\n",
        "test_images = test_images.reshape(10000, 28, 28, 1)\n",
        "test_images=test_images/255.0"
      ]
    },
    {
      "cell_type": "markdown",
      "metadata": {
        "colab_type": "text",
        "id": "SS_W_INc_kJQ"
      },
      "source": [
        "Next is to define your model. Now instead of the input layer at the top, you're going to add a Convolution. The parameters are:\n",
        "\n",
        "1. The number of convolutions you want to generate. Purely arbitrary, but good to start with something in the order of 32\n",
        "2. The size of the Convolution, in this case a 3x3 grid\n",
        "3. The activation function to use -- in this case we'll use relu, which you might recall is the equivalent of returning x when x>0, else returning 0\n",
        "4. In the first layer, the shape of the input data.\n",
        "\n",
        "You'll follow the Convolution with a MaxPooling layer which is then designed to compress the image, while maintaining the content of the features that were highlighted by the convlution. By specifying (2,2) for the MaxPooling, the effect is to quarter the size of the image. Without going into too much detail here, the idea is that it creates a 2x2 array of pixels, and picks the biggest one, thus turning 4 pixels into 1. It repeats this across the image, and in so doing halves the number of horizontal, and halves the number of vertical pixels, effectively reducing the image by 25%.\n",
        "\n",
        "You can call model.summary() to see the size and shape of the network, and you'll notice that after every MaxPooling layer, the image size is reduced in this way. \n",
        "\n",
        "\n",
        "```\n",
        "model = tf.keras.models.Sequential([\n",
        "  tf.keras.layers.Conv2D(32, (3,3), activation='relu', input_shape=(28, 28, 1)),\n",
        "  tf.keras.layers.MaxPooling2D(2, 2),\n",
        "```\n"
      ]
    },
    {
      "cell_type": "markdown",
      "metadata": {
        "colab_type": "text",
        "id": "RMorM6daADjA"
      },
      "source": [
        "Add another convolution\n",
        "\n",
        "\n",
        "\n",
        "```\n",
        "  tf.keras.layers.Conv2D(64, (3,3), activation='relu'),\n",
        "  tf.keras.layers.MaxPooling2D(2,2)\n",
        "```\n"
      ]
    },
    {
      "cell_type": "markdown",
      "metadata": {
        "colab_type": "text",
        "id": "b1-x-kZF4_tC"
      },
      "source": [
        "Now flatten the output. After this you'll just have the same DNN structure as the non convolutional version\n",
        "\n",
        "```\n",
        "  tf.keras.layers.Flatten(),\n",
        "```\n"
      ]
    },
    {
      "cell_type": "markdown",
      "metadata": {
        "colab_type": "text",
        "id": "qPtqR23uASjX"
      },
      "source": [
        "The same 128 dense layers, and 10 output layers as in the pre-convolution example:\n",
        "\n",
        "\n",
        "\n",
        "```\n",
        "  tf.keras.layers.Dense(128, activation='relu'),\n",
        "  tf.keras.layers.Dense(10, activation='softmax')\n",
        "])\n",
        "```\n"
      ]
    },
    {
      "cell_type": "markdown",
      "metadata": {
        "colab_type": "text",
        "id": "C0GSsjUhAaSj"
      },
      "source": [
        "Now compile the model, call the fit method to do the training, and evaluate the loss and accuracy from the test set.\n",
        "\n",
        "\n",
        "\n",
        "```\n",
        "model.compile(optimizer='adam', loss='sparse_categorical_crossentropy', metrics=['accuracy'])\n",
        "model.fit(training_images, training_labels, epochs=5)\n",
        "test_loss, test_acc = model.evaluate(test_images, test_labels)\n",
        "print(test_acc)\n",
        "```\n"
      ]
    },
    {
      "cell_type": "markdown",
      "metadata": {
        "colab_type": "text",
        "id": "IXx_LX3SAlFs"
      },
      "source": [
        "# Visualizing the Convolutions and Pooling\n",
        "\n",
        "This code will show us the convolutions graphically. The print (test_labels[;100]) shows us the first 100 labels in the test set, and you can see that the ones at index 0, index 23 and index 28 are all the same value (9). They're all shoes. Let's take a look at the result of running the convolution on each, and you'll begin to see common features between them emerge. Now, when the DNN is training on that data, it's working with a lot less, and it's perhaps finding a commonality between shoes based on this convolution/pooling combination."
      ]
    },
    {
      "cell_type": "code",
      "execution_count": 8,
      "metadata": {
        "colab": {
          "base_uri": "https://localhost:8080/",
          "height": 68
        },
        "colab_type": "code",
        "id": "f-6nX4QsOku6",
        "outputId": "6b85ed93-6868-4c2c-b066-0808d6536878",
        "tags": []
      },
      "outputs": [
        {
          "output_type": "stream",
          "name": "stdout",
          "text": "[9 2 1 1 6 1 4 6 5 7 4 5 7 3 4 1 2 4 8 0 2 5 7 9 1 4 6 0 9 3 8 8 3 3 8 0 7\n 5 7 9 6 1 3 7 6 7 2 1 2 2 4 4 5 8 2 2 8 4 8 0 7 7 8 5 1 1 2 3 9 8 7 0 2 6\n 2 3 1 2 8 4 1 8 5 9 5 0 3 2 0 6 5 3 6 7 1 8 0 1 4 2]\n"
        }
      ],
      "source": [
        "print(test_labels[:100])"
      ]
    },
    {
      "cell_type": "code",
      "execution_count": 18,
      "metadata": {
        "colab": {
          "base_uri": "https://localhost:8080/",
          "height": 349
        },
        "colab_type": "code",
        "id": "9FGsHhv6JvDx",
        "outputId": "e144d639-cebc-4d0a-9c7a-8571f70d6159",
        "tags": []
      },
      "outputs": [
        {
          "output_type": "display_data",
          "data": {
            "text/plain": "<Figure size 432x288 with 12 Axes>",
            "image/svg+xml": "<?xml version=\"1.0\" encoding=\"utf-8\" standalone=\"no\"?>\n<!DOCTYPE svg PUBLIC \"-//W3C//DTD SVG 1.1//EN\"\n  \"http://www.w3.org/Graphics/SVG/1.1/DTD/svg11.dtd\">\n<!-- Created with matplotlib (https://matplotlib.org/) -->\n<svg height=\"251.087479pt\" version=\"1.1\" viewBox=\"0 0 360.095332 251.087479\" width=\"360.095332pt\" xmlns=\"http://www.w3.org/2000/svg\" xmlns:xlink=\"http://www.w3.org/1999/xlink\">\n <metadata>\n  <rdf:RDF xmlns:cc=\"http://creativecommons.org/ns#\" xmlns:dc=\"http://purl.org/dc/elements/1.1/\" xmlns:rdf=\"http://www.w3.org/1999/02/22-rdf-syntax-ns#\">\n   <cc:Work>\n    <dc:type rdf:resource=\"http://purl.org/dc/dcmitype/StillImage\"/>\n    <dc:date>2020-09-23T13:23:09.895701</dc:date>\n    <dc:format>image/svg+xml</dc:format>\n    <dc:creator>\n     <cc:Agent>\n      <dc:title>Matplotlib v3.3.2, https://matplotlib.org/</dc:title>\n     </cc:Agent>\n    </dc:creator>\n   </cc:Work>\n  </rdf:RDF>\n </metadata>\n <defs>\n  <style type=\"text/css\">*{stroke-linecap:butt;stroke-linejoin:round;}</style>\n </defs>\n <g id=\"figure_1\">\n  <g id=\"patch_1\">\n   <path d=\"M 0 251.087479 \nL 360.095332 251.087479 \nL 360.095332 0 \nL 0 0 \nz\n\" style=\"fill:none;\"/>\n  </g>\n  <g id=\"axes_1\">\n   <g id=\"patch_2\">\n    <path d=\"M 26.925 73.722296 \nL 90.877941 73.722296 \nL 90.877941 9.769354 \nL 26.925 9.769354 \nz\n\" style=\"fill:#ffffff;\"/>\n   </g>\n   <g clip-path=\"url(#pee2850a933)\">\n    <image height=\"64\" id=\"image8835992060\" transform=\"scale(1 -1)translate(0 -64)\" width=\"64\" x=\"26.925\" xlink:href=\"data:image/png;base64,\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\" y=\"-9.722296\"/>\n   </g>\n   <g id=\"matplotlib.axis_1\">\n    <g id=\"xtick_1\">\n     <g id=\"line2d_1\">\n      <defs>\n       <path d=\"M 0 0 \nL 0 3.5 \n\" id=\"mb85aebadcb\" style=\"stroke:#000000;stroke-width:0.8;\"/>\n      </defs>\n      <g>\n       <use style=\"stroke:#000000;stroke-width:0.8;\" x=\"28.154864\" xlink:href=\"#mb85aebadcb\" y=\"73.722296\"/>\n      </g>\n     </g>\n     <g id=\"text_1\">\n      <!-- 0 -->\n      <g transform=\"translate(24.973614 88.320733)scale(0.1 -0.1)\">\n       <defs>\n        <path d=\"M 31.78125 66.40625 \nQ 24.171875 66.40625 20.328125 58.90625 \nQ 16.5 51.421875 16.5 36.375 \nQ 16.5 21.390625 20.328125 13.890625 \nQ 24.171875 6.390625 31.78125 6.390625 \nQ 39.453125 6.390625 43.28125 13.890625 \nQ 47.125 21.390625 47.125 36.375 \nQ 47.125 51.421875 43.28125 58.90625 \nQ 39.453125 66.40625 31.78125 66.40625 \nz\nM 31.78125 74.21875 \nQ 44.046875 74.21875 50.515625 64.515625 \nQ 56.984375 54.828125 56.984375 36.375 \nQ 56.984375 17.96875 50.515625 8.265625 \nQ 44.046875 -1.421875 31.78125 -1.421875 \nQ 19.53125 -1.421875 13.0625 8.265625 \nQ 6.59375 17.96875 6.59375 36.375 \nQ 6.59375 54.828125 13.0625 64.515625 \nQ 19.53125 74.21875 31.78125 74.21875 \nz\n\" id=\"DejaVuSans-48\"/>\n       </defs>\n       <use xlink:href=\"#DejaVuSans-48\"/>\n      </g>\n     </g>\n    </g>\n    <g id=\"xtick_2\">\n     <g id=\"line2d_2\">\n      <g>\n       <use style=\"stroke:#000000;stroke-width:0.8;\" x=\"77.349434\" xlink:href=\"#mb85aebadcb\" y=\"73.722296\"/>\n      </g>\n     </g>\n     <g id=\"text_2\">\n      <!-- 20 -->\n      <g transform=\"translate(70.986934 88.320733)scale(0.1 -0.1)\">\n       <defs>\n        <path d=\"M 19.1875 8.296875 \nL 53.609375 8.296875 \nL 53.609375 0 \nL 7.328125 0 \nL 7.328125 8.296875 \nQ 12.9375 14.109375 22.625 23.890625 \nQ 32.328125 33.6875 34.8125 36.53125 \nQ 39.546875 41.84375 41.421875 45.53125 \nQ 43.3125 49.21875 43.3125 52.78125 \nQ 43.3125 58.59375 39.234375 62.25 \nQ 35.15625 65.921875 28.609375 65.921875 \nQ 23.96875 65.921875 18.8125 64.3125 \nQ 13.671875 62.703125 7.8125 59.421875 \nL 7.8125 69.390625 \nQ 13.765625 71.78125 18.9375 73 \nQ 24.125 74.21875 28.421875 74.21875 \nQ 39.75 74.21875 46.484375 68.546875 \nQ 53.21875 62.890625 53.21875 53.421875 \nQ 53.21875 48.921875 51.53125 44.890625 \nQ 49.859375 40.875 45.40625 35.40625 \nQ 44.1875 33.984375 37.640625 27.21875 \nQ 31.109375 20.453125 19.1875 8.296875 \nz\n\" id=\"DejaVuSans-50\"/>\n       </defs>\n       <use xlink:href=\"#DejaVuSans-50\"/>\n       <use x=\"63.623047\" xlink:href=\"#DejaVuSans-48\"/>\n      </g>\n     </g>\n    </g>\n   </g>\n   <g id=\"matplotlib.axis_2\">\n    <g id=\"ytick_1\">\n     <g id=\"line2d_3\">\n      <defs>\n       <path d=\"M 0 0 \nL -3.5 0 \n\" id=\"m56a36966f4\" style=\"stroke:#000000;stroke-width:0.8;\"/>\n      </defs>\n      <g>\n       <use style=\"stroke:#000000;stroke-width:0.8;\" x=\"26.925\" xlink:href=\"#m56a36966f4\" y=\"10.999219\"/>\n      </g>\n     </g>\n     <g id=\"text_3\">\n      <!-- 0 -->\n      <g transform=\"translate(13.5625 14.798437)scale(0.1 -0.1)\">\n       <use xlink:href=\"#DejaVuSans-48\"/>\n      </g>\n     </g>\n    </g>\n    <g id=\"ytick_2\">\n     <g id=\"line2d_4\">\n      <g>\n       <use style=\"stroke:#000000;stroke-width:0.8;\" x=\"26.925\" xlink:href=\"#m56a36966f4\" y=\"35.596504\"/>\n      </g>\n     </g>\n     <g id=\"text_4\">\n      <!-- 10 -->\n      <g transform=\"translate(7.2 39.395723)scale(0.1 -0.1)\">\n       <defs>\n        <path d=\"M 12.40625 8.296875 \nL 28.515625 8.296875 \nL 28.515625 63.921875 \nL 10.984375 60.40625 \nL 10.984375 69.390625 \nL 28.421875 72.90625 \nL 38.28125 72.90625 \nL 38.28125 8.296875 \nL 54.390625 8.296875 \nL 54.390625 0 \nL 12.40625 0 \nz\n\" id=\"DejaVuSans-49\"/>\n       </defs>\n       <use xlink:href=\"#DejaVuSans-49\"/>\n       <use x=\"63.623047\" xlink:href=\"#DejaVuSans-48\"/>\n      </g>\n     </g>\n    </g>\n    <g id=\"ytick_3\">\n     <g id=\"line2d_5\">\n      <g>\n       <use style=\"stroke:#000000;stroke-width:0.8;\" x=\"26.925\" xlink:href=\"#m56a36966f4\" y=\"60.193789\"/>\n      </g>\n     </g>\n     <g id=\"text_5\">\n      <!-- 20 -->\n      <g transform=\"translate(7.2 63.993008)scale(0.1 -0.1)\">\n       <use xlink:href=\"#DejaVuSans-50\"/>\n       <use x=\"63.623047\" xlink:href=\"#DejaVuSans-48\"/>\n      </g>\n     </g>\n    </g>\n   </g>\n   <g id=\"patch_3\">\n    <path d=\"M 26.925 73.722296 \nL 26.925 9.769354 \n\" style=\"fill:none;stroke:#000000;stroke-linecap:square;stroke-linejoin:miter;stroke-width:0.8;\"/>\n   </g>\n   <g id=\"patch_4\">\n    <path d=\"M 90.877941 73.722296 \nL 90.877941 9.769354 \n\" style=\"fill:none;stroke:#000000;stroke-linecap:square;stroke-linejoin:miter;stroke-width:0.8;\"/>\n   </g>\n   <g id=\"patch_5\">\n    <path d=\"M 26.925 73.722296 \nL 90.877941 73.722296 \n\" style=\"fill:none;stroke:#000000;stroke-linecap:square;stroke-linejoin:miter;stroke-width:0.8;\"/>\n   </g>\n   <g id=\"patch_6\">\n    <path d=\"M 26.925 9.769354 \nL 90.877941 9.769354 \n\" style=\"fill:none;stroke:#000000;stroke-linecap:square;stroke-linejoin:miter;stroke-width:0.8;\"/>\n   </g>\n  </g>\n  <g id=\"axes_2\">\n   <g id=\"patch_7\">\n    <path d=\"M 114.26413 73.722296 \nL 178.217072 73.722296 \nL 178.217072 9.769354 \nL 114.26413 9.769354 \nz\n\" style=\"fill:#ffffff;\"/>\n   </g>\n   <g clip-path=\"url(#pc7d724bbc8)\">\n    <image height=\"64\" id=\"imagea727681eb5\" transform=\"scale(1 -1)translate(0 -64)\" width=\"64\" x=\"114.26413\" xlink:href=\"data:image/png;base64,\niVBORw0KGgoAAAANSUhEUgAAAEAAAABACAYAAACqaXHeAAABvklEQVR4nO2ZPUvDYBSFkzZFa5XSEkQQCuKmgpuugqOIo5sOHQSFrm7+C50U6aAgOLj5AxyKgyAIgrPSivWzoAWl1TmcO4RU3yPc+2w55G0PT29D3sQvh5VvTzEpdgE2JoBdgI0JYBdgYwLYBdiYAHYBNoEU7j1uu+4hUg43IPvtbuonwASwC7BRL8D3vLRthzVjAtgF2KgXEFQnVyAcLzxBNjpyD9nY8cWflHKJ+gkwAewCbNQLCGrNIQgbH1nISq8FyG4W+yC7exiGbP78JFk7B6ifABPALsBGvQA/7tvhlC8sFs5rd4S1wnnVZ/fPHVeL+IxR/QSYAHYBNuJ7Aen/LiFdPHLCJ3aEE/PZicjxW/s63pf2wFIJd7nqJ8AEsAuwUS9AvAh2e3hTEHftQv9c5PhQuAgWB6Yhq59lIEtfXULWOJ2C7Lbegkz9BJgAdgE26gWIF0EXDAbR283l/Dqcc/AyC1mrsgXZ5tEaZJ/CrnR3Zx8y9RNgAtgF2KgXEPuR2H8hI/xk0nZb2tHPhO+QqZ8AE8AuwEa9ANqdYFK+usnX1po5yNRPgAlgF2BjAtgF2JgAdgE2JoBdgM0Pfh1HP4ZbXP8AAAAASUVORK5CYII=\" y=\"-9.722296\"/>\n   </g>\n   <g id=\"matplotlib.axis_3\">\n    <g id=\"xtick_3\">\n     <g id=\"line2d_6\">\n      <g>\n       <use style=\"stroke:#000000;stroke-width:0.8;\" x=\"116.723859\" xlink:href=\"#mb85aebadcb\" y=\"73.722296\"/>\n      </g>\n     </g>\n     <g id=\"text_6\">\n      <!-- 0 -->\n      <g transform=\"translate(113.542609 88.320733)scale(0.1 -0.1)\">\n       <use xlink:href=\"#DejaVuSans-48\"/>\n      </g>\n     </g>\n    </g>\n    <g id=\"xtick_4\">\n     <g id=\"line2d_7\">\n      <g>\n       <use style=\"stroke:#000000;stroke-width:0.8;\" x=\"165.918429\" xlink:href=\"#mb85aebadcb\" y=\"73.722296\"/>\n      </g>\n     </g>\n     <g id=\"text_7\">\n      <!-- 10 -->\n      <g transform=\"translate(159.555929 88.320733)scale(0.1 -0.1)\">\n       <use xlink:href=\"#DejaVuSans-49\"/>\n       <use x=\"63.623047\" xlink:href=\"#DejaVuSans-48\"/>\n      </g>\n     </g>\n    </g>\n   </g>\n   <g id=\"matplotlib.axis_4\">\n    <g id=\"ytick_4\">\n     <g id=\"line2d_8\">\n      <g>\n       <use style=\"stroke:#000000;stroke-width:0.8;\" x=\"114.26413\" xlink:href=\"#m56a36966f4\" y=\"12.229083\"/>\n      </g>\n     </g>\n     <g id=\"text_8\">\n      <!-- 0 -->\n      <g transform=\"translate(100.90163 16.028302)scale(0.1 -0.1)\">\n       <use xlink:href=\"#DejaVuSans-48\"/>\n      </g>\n     </g>\n    </g>\n    <g id=\"ytick_5\">\n     <g id=\"line2d_9\">\n      <g>\n       <use style=\"stroke:#000000;stroke-width:0.8;\" x=\"114.26413\" xlink:href=\"#m56a36966f4\" y=\"36.826368\"/>\n      </g>\n     </g>\n     <g id=\"text_9\">\n      <!-- 5 -->\n      <g transform=\"translate(100.90163 40.625587)scale(0.1 -0.1)\">\n       <defs>\n        <path d=\"M 10.796875 72.90625 \nL 49.515625 72.90625 \nL 49.515625 64.59375 \nL 19.828125 64.59375 \nL 19.828125 46.734375 \nQ 21.96875 47.46875 24.109375 47.828125 \nQ 26.265625 48.1875 28.421875 48.1875 \nQ 40.625 48.1875 47.75 41.5 \nQ 54.890625 34.8125 54.890625 23.390625 \nQ 54.890625 11.625 47.5625 5.09375 \nQ 40.234375 -1.421875 26.90625 -1.421875 \nQ 22.3125 -1.421875 17.546875 -0.640625 \nQ 12.796875 0.140625 7.71875 1.703125 \nL 7.71875 11.625 \nQ 12.109375 9.234375 16.796875 8.0625 \nQ 21.484375 6.890625 26.703125 6.890625 \nQ 35.15625 6.890625 40.078125 11.328125 \nQ 45.015625 15.765625 45.015625 23.390625 \nQ 45.015625 31 40.078125 35.4375 \nQ 35.15625 39.890625 26.703125 39.890625 \nQ 22.75 39.890625 18.8125 39.015625 \nQ 14.890625 38.140625 10.796875 36.28125 \nz\n\" id=\"DejaVuSans-53\"/>\n       </defs>\n       <use xlink:href=\"#DejaVuSans-53\"/>\n      </g>\n     </g>\n    </g>\n    <g id=\"ytick_6\">\n     <g id=\"line2d_10\">\n      <g>\n       <use style=\"stroke:#000000;stroke-width:0.8;\" x=\"114.26413\" xlink:href=\"#m56a36966f4\" y=\"61.423653\"/>\n      </g>\n     </g>\n     <g id=\"text_10\">\n      <!-- 10 -->\n      <g transform=\"translate(94.53913 65.222872)scale(0.1 -0.1)\">\n       <use xlink:href=\"#DejaVuSans-49\"/>\n       <use x=\"63.623047\" xlink:href=\"#DejaVuSans-48\"/>\n      </g>\n     </g>\n    </g>\n   </g>\n   <g id=\"patch_8\">\n    <path d=\"M 114.26413 73.722296 \nL 114.26413 9.769354 \n\" style=\"fill:none;stroke:#000000;stroke-linecap:square;stroke-linejoin:miter;stroke-width:0.8;\"/>\n   </g>\n   <g id=\"patch_9\">\n    <path d=\"M 178.217072 73.722296 \nL 178.217072 9.769354 \n\" style=\"fill:none;stroke:#000000;stroke-linecap:square;stroke-linejoin:miter;stroke-width:0.8;\"/>\n   </g>\n   <g id=\"patch_10\">\n    <path d=\"M 114.26413 73.722296 \nL 178.217072 73.722296 \n\" style=\"fill:none;stroke:#000000;stroke-linecap:square;stroke-linejoin:miter;stroke-width:0.8;\"/>\n   </g>\n   <g id=\"patch_11\">\n    <path d=\"M 114.26413 9.769354 \nL 178.217072 9.769354 \n\" style=\"fill:none;stroke:#000000;stroke-linecap:square;stroke-linejoin:miter;stroke-width:0.8;\"/>\n   </g>\n  </g>\n  <g id=\"axes_3\">\n   <g id=\"patch_12\">\n    <path d=\"M 201.603261 73.722296 \nL 265.556202 73.722296 \nL 265.556202 9.769354 \nL 201.603261 9.769354 \nz\n\" style=\"fill:#ffffff;\"/>\n   </g>\n   <g clip-path=\"url(#p86ba2d3859)\">\n    <image height=\"64\" id=\"image8ef356097c\" transform=\"scale(1 -1)translate(0 -64)\" width=\"64\" x=\"201.603261\" xlink:href=\"data:image/png;base64,\niVBORw0KGgoAAAANSUhEUgAAAEAAAABACAYAAACqaXHeAAABI0lEQVR4nO2ZsQ7BUBhGb6sGEwOrJxBvY5ZYxUN5A7F7C4vRYpGIGNC01AP4m7iUg/ud8U9zc3Lypzdpo0FzUjiD+XFmjV2abcz5Oxm1x+Z8cV7dzXb52ny2G/fNefy81n+gALQAjQLQAjSRczXzFvgm8uvUnCfx8OWzg98ABaAFaBSAFqD5iVvgnQS/AQpAC9AoAC1AowC0AI0C0AI0wQdIqjiknnTMeZZvvc5pNXrmfH9aejs9SvAboAC0AI0C0AI0ldwCvm/7MtLLoZJzfAh+AxSAFqBRAFqABvksHpVcPoXLP2yiDVAABaAFaIIPoJ+jtACNAtACNApAC9AoAC1AowC0AI0C0AI0CkAL0CgALUCjALQAjQLQAjQKQAvQBB/gBlC3Itx3KaGjAAAAAElFTkSuQmCC\" y=\"-9.722296\"/>\n   </g>\n   <g id=\"matplotlib.axis_5\">\n    <g id=\"xtick_5\">\n     <g id=\"line2d_11\">\n      <g>\n       <use style=\"stroke:#000000;stroke-width:0.8;\" x=\"204.510213\" xlink:href=\"#mb85aebadcb\" y=\"73.722296\"/>\n      </g>\n     </g>\n     <g id=\"text_11\">\n      <!-- 0 -->\n      <g transform=\"translate(201.328963 88.320733)scale(0.1 -0.1)\">\n       <use xlink:href=\"#DejaVuSans-48\"/>\n      </g>\n     </g>\n    </g>\n    <g id=\"xtick_6\">\n     <g id=\"line2d_12\">\n      <g>\n       <use style=\"stroke:#000000;stroke-width:0.8;\" x=\"262.64925\" xlink:href=\"#mb85aebadcb\" y=\"73.722296\"/>\n      </g>\n     </g>\n     <g id=\"text_12\">\n      <!-- 10 -->\n      <g transform=\"translate(256.28675 88.320733)scale(0.1 -0.1)\">\n       <use xlink:href=\"#DejaVuSans-49\"/>\n       <use x=\"63.623047\" xlink:href=\"#DejaVuSans-48\"/>\n      </g>\n     </g>\n    </g>\n   </g>\n   <g id=\"matplotlib.axis_6\">\n    <g id=\"ytick_7\">\n     <g id=\"line2d_13\">\n      <g>\n       <use style=\"stroke:#000000;stroke-width:0.8;\" x=\"201.603261\" xlink:href=\"#m56a36966f4\" y=\"12.676306\"/>\n      </g>\n     </g>\n     <g id=\"text_13\">\n      <!-- 0 -->\n      <g transform=\"translate(188.240761 16.475525)scale(0.1 -0.1)\">\n       <use xlink:href=\"#DejaVuSans-48\"/>\n      </g>\n     </g>\n    </g>\n    <g id=\"ytick_8\">\n     <g id=\"line2d_14\">\n      <g>\n       <use style=\"stroke:#000000;stroke-width:0.8;\" x=\"201.603261\" xlink:href=\"#m56a36966f4\" y=\"41.745825\"/>\n      </g>\n     </g>\n     <g id=\"text_14\">\n      <!-- 5 -->\n      <g transform=\"translate(188.240761 45.545044)scale(0.1 -0.1)\">\n       <use xlink:href=\"#DejaVuSans-53\"/>\n      </g>\n     </g>\n    </g>\n    <g id=\"ytick_9\">\n     <g id=\"line2d_15\">\n      <g>\n       <use style=\"stroke:#000000;stroke-width:0.8;\" x=\"201.603261\" xlink:href=\"#m56a36966f4\" y=\"70.815344\"/>\n      </g>\n     </g>\n     <g id=\"text_15\">\n      <!-- 10 -->\n      <g transform=\"translate(181.878261 74.614563)scale(0.1 -0.1)\">\n       <use xlink:href=\"#DejaVuSans-49\"/>\n       <use x=\"63.623047\" xlink:href=\"#DejaVuSans-48\"/>\n      </g>\n     </g>\n    </g>\n   </g>\n   <g id=\"patch_13\">\n    <path d=\"M 201.603261 73.722296 \nL 201.603261 9.769354 \n\" style=\"fill:none;stroke:#000000;stroke-linecap:square;stroke-linejoin:miter;stroke-width:0.8;\"/>\n   </g>\n   <g id=\"patch_14\">\n    <path d=\"M 265.556202 73.722296 \nL 265.556202 9.769354 \n\" style=\"fill:none;stroke:#000000;stroke-linecap:square;stroke-linejoin:miter;stroke-width:0.8;\"/>\n   </g>\n   <g id=\"patch_15\">\n    <path d=\"M 201.603261 73.722296 \nL 265.556202 73.722296 \n\" style=\"fill:none;stroke:#000000;stroke-linecap:square;stroke-linejoin:miter;stroke-width:0.8;\"/>\n   </g>\n   <g id=\"patch_16\">\n    <path d=\"M 201.603261 9.769354 \nL 265.556202 9.769354 \n\" style=\"fill:none;stroke:#000000;stroke-linecap:square;stroke-linejoin:miter;stroke-width:0.8;\"/>\n   </g>\n  </g>\n  <g id=\"axes_4\">\n   <g id=\"patch_17\">\n    <path d=\"M 288.942391 73.722296 \nL 352.895332 73.722296 \nL 352.895332 9.769354 \nL 288.942391 9.769354 \nz\n\" style=\"fill:#ffffff;\"/>\n   </g>\n   <g clip-path=\"url(#pd3b84fc29a)\">\n    <image height=\"64\" id=\"imagedded2d6d52\" transform=\"scale(1 -1)translate(0 -64)\" width=\"64\" x=\"288.942391\" xlink:href=\"data:image/png;base64,\niVBORw0KGgoAAAANSUhEUgAAAEAAAABACAYAAACqaXHeAAAA50lEQVR4nO3Zuw3CQBAG4bMxARkJXdATtdETXZAgEoQwjxrWyYd8/8Re7Wi0yclDa5tv+0Pmz7k8M42n8sxYnlgZCaAFNAmgBTQJoAU0CaAFNAmgBTTdBxiWPIa206G86DVfS9/vd8fyjtvjUp7p/gISQAtoEkALaBJAC2gSQAtoEkALaLoPMC0Zqj5sWmttKK56vu/lHUvo/gISQAtoEkALaBJAC2gSQAtoEkALaBb9GFkT3V9AAmgBTQJoAU0CaAFNAmgBTQJoAU0CaAFNAmgBTQJoAU0CaAFNAmgBTQJoAU0CaAHND9N6ElU93vlIAAAAAElFTkSuQmCC\" y=\"-9.722296\"/>\n   </g>\n   <g id=\"matplotlib.axis_7\">\n    <g id=\"xtick_7\">\n     <g id=\"line2d_16\">\n      <g>\n       <use style=\"stroke:#000000;stroke-width:0.8;\" x=\"295.337685\" xlink:href=\"#mb85aebadcb\" y=\"73.722296\"/>\n      </g>\n     </g>\n     <g id=\"text_16\">\n      <!-- 0.0 -->\n      <g transform=\"translate(287.386123 88.320733)scale(0.1 -0.1)\">\n       <defs>\n        <path d=\"M 10.6875 12.40625 \nL 21 12.40625 \nL 21 0 \nL 10.6875 0 \nz\n\" id=\"DejaVuSans-46\"/>\n       </defs>\n       <use xlink:href=\"#DejaVuSans-48\"/>\n       <use x=\"63.623047\" xlink:href=\"#DejaVuSans-46\"/>\n       <use x=\"95.410156\" xlink:href=\"#DejaVuSans-48\"/>\n      </g>\n     </g>\n    </g>\n    <g id=\"xtick_8\">\n     <g id=\"line2d_17\">\n      <g>\n       <use style=\"stroke:#000000;stroke-width:0.8;\" x=\"327.314156\" xlink:href=\"#mb85aebadcb\" y=\"73.722296\"/>\n      </g>\n     </g>\n     <g id=\"text_17\">\n      <!-- 2.5 -->\n      <g transform=\"translate(319.362594 88.320733)scale(0.1 -0.1)\">\n       <use xlink:href=\"#DejaVuSans-50\"/>\n       <use x=\"63.623047\" xlink:href=\"#DejaVuSans-46\"/>\n       <use x=\"95.410156\" xlink:href=\"#DejaVuSans-53\"/>\n      </g>\n     </g>\n    </g>\n   </g>\n   <g id=\"matplotlib.axis_8\">\n    <g id=\"ytick_10\">\n     <g id=\"line2d_18\">\n      <g>\n       <use style=\"stroke:#000000;stroke-width:0.8;\" x=\"288.942391\" xlink:href=\"#m56a36966f4\" y=\"16.164649\"/>\n      </g>\n     </g>\n     <g id=\"text_18\">\n      <!-- 0 -->\n      <g transform=\"translate(275.579891 19.963867)scale(0.1 -0.1)\">\n       <use xlink:href=\"#DejaVuSans-48\"/>\n      </g>\n     </g>\n    </g>\n    <g id=\"ytick_11\">\n     <g id=\"line2d_19\">\n      <g>\n       <use style=\"stroke:#000000;stroke-width:0.8;\" x=\"288.942391\" xlink:href=\"#m56a36966f4\" y=\"41.745825\"/>\n      </g>\n     </g>\n     <g id=\"text_19\">\n      <!-- 2 -->\n      <g transform=\"translate(275.579891 45.545044)scale(0.1 -0.1)\">\n       <use xlink:href=\"#DejaVuSans-50\"/>\n      </g>\n     </g>\n    </g>\n    <g id=\"ytick_12\">\n     <g id=\"line2d_20\">\n      <g>\n       <use style=\"stroke:#000000;stroke-width:0.8;\" x=\"288.942391\" xlink:href=\"#m56a36966f4\" y=\"67.327002\"/>\n      </g>\n     </g>\n     <g id=\"text_20\">\n      <!-- 4 -->\n      <g transform=\"translate(275.579891 71.12622)scale(0.1 -0.1)\">\n       <defs>\n        <path d=\"M 37.796875 64.3125 \nL 12.890625 25.390625 \nL 37.796875 25.390625 \nz\nM 35.203125 72.90625 \nL 47.609375 72.90625 \nL 47.609375 25.390625 \nL 58.015625 25.390625 \nL 58.015625 17.1875 \nL 47.609375 17.1875 \nL 47.609375 0 \nL 37.796875 0 \nL 37.796875 17.1875 \nL 4.890625 17.1875 \nL 4.890625 26.703125 \nz\n\" id=\"DejaVuSans-52\"/>\n       </defs>\n       <use xlink:href=\"#DejaVuSans-52\"/>\n      </g>\n     </g>\n    </g>\n   </g>\n   <g id=\"patch_18\">\n    <path d=\"M 288.942391 73.722296 \nL 288.942391 9.769354 \n\" style=\"fill:none;stroke:#000000;stroke-linecap:square;stroke-linejoin:miter;stroke-width:0.8;\"/>\n   </g>\n   <g id=\"patch_19\">\n    <path d=\"M 352.895332 73.722296 \nL 352.895332 9.769354 \n\" style=\"fill:none;stroke:#000000;stroke-linecap:square;stroke-linejoin:miter;stroke-width:0.8;\"/>\n   </g>\n   <g id=\"patch_20\">\n    <path d=\"M 288.942391 73.722296 \nL 352.895332 73.722296 \n\" style=\"fill:none;stroke:#000000;stroke-linecap:square;stroke-linejoin:miter;stroke-width:0.8;\"/>\n   </g>\n   <g id=\"patch_21\">\n    <path d=\"M 288.942391 9.769354 \nL 352.895332 9.769354 \n\" style=\"fill:none;stroke:#000000;stroke-linecap:square;stroke-linejoin:miter;stroke-width:0.8;\"/>\n   </g>\n  </g>\n  <g id=\"axes_5\">\n   <g id=\"patch_22\">\n    <path d=\"M 26.925 150.465825 \nL 90.877941 150.465825 \nL 90.877941 86.512884 \nL 26.925 86.512884 \nz\n\" style=\"fill:#ffffff;\"/>\n   </g>\n   <g clip-path=\"url(#p102931dca5)\">\n    <image height=\"64\" id=\"image39e8760fbd\" transform=\"scale(1 -1)translate(0 -64)\" width=\"64\" x=\"26.925\" xlink:href=\"data:image/png;base64,\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\" y=\"-86.465825\"/>\n   </g>\n   <g id=\"matplotlib.axis_9\">\n    <g id=\"xtick_9\">\n     <g id=\"line2d_21\">\n      <g>\n       <use style=\"stroke:#000000;stroke-width:0.8;\" x=\"28.154864\" xlink:href=\"#mb85aebadcb\" y=\"150.465825\"/>\n      </g>\n     </g>\n     <g id=\"text_21\">\n      <!-- 0 -->\n      <g transform=\"translate(24.973614 165.064263)scale(0.1 -0.1)\">\n       <use xlink:href=\"#DejaVuSans-48\"/>\n      </g>\n     </g>\n    </g>\n    <g id=\"xtick_10\">\n     <g id=\"line2d_22\">\n      <g>\n       <use style=\"stroke:#000000;stroke-width:0.8;\" x=\"77.349434\" xlink:href=\"#mb85aebadcb\" y=\"150.465825\"/>\n      </g>\n     </g>\n     <g id=\"text_22\">\n      <!-- 20 -->\n      <g transform=\"translate(70.986934 165.064263)scale(0.1 -0.1)\">\n       <use xlink:href=\"#DejaVuSans-50\"/>\n       <use x=\"63.623047\" xlink:href=\"#DejaVuSans-48\"/>\n      </g>\n     </g>\n    </g>\n   </g>\n   <g id=\"matplotlib.axis_10\">\n    <g id=\"ytick_13\">\n     <g id=\"line2d_23\">\n      <g>\n       <use style=\"stroke:#000000;stroke-width:0.8;\" x=\"26.925\" xlink:href=\"#m56a36966f4\" y=\"87.742748\"/>\n      </g>\n     </g>\n     <g id=\"text_23\">\n      <!-- 0 -->\n      <g transform=\"translate(13.5625 91.541967)scale(0.1 -0.1)\">\n       <use xlink:href=\"#DejaVuSans-48\"/>\n      </g>\n     </g>\n    </g>\n    <g id=\"ytick_14\">\n     <g id=\"line2d_24\">\n      <g>\n       <use style=\"stroke:#000000;stroke-width:0.8;\" x=\"26.925\" xlink:href=\"#m56a36966f4\" y=\"112.340033\"/>\n      </g>\n     </g>\n     <g id=\"text_24\">\n      <!-- 10 -->\n      <g transform=\"translate(7.2 116.139252)scale(0.1 -0.1)\">\n       <use xlink:href=\"#DejaVuSans-49\"/>\n       <use x=\"63.623047\" xlink:href=\"#DejaVuSans-48\"/>\n      </g>\n     </g>\n    </g>\n    <g id=\"ytick_15\">\n     <g id=\"line2d_25\">\n      <g>\n       <use style=\"stroke:#000000;stroke-width:0.8;\" x=\"26.925\" xlink:href=\"#m56a36966f4\" y=\"136.937318\"/>\n      </g>\n     </g>\n     <g id=\"text_25\">\n      <!-- 20 -->\n      <g transform=\"translate(7.2 140.736537)scale(0.1 -0.1)\">\n       <use xlink:href=\"#DejaVuSans-50\"/>\n       <use x=\"63.623047\" xlink:href=\"#DejaVuSans-48\"/>\n      </g>\n     </g>\n    </g>\n   </g>\n   <g id=\"patch_23\">\n    <path d=\"M 26.925 150.465825 \nL 26.925 86.512884 \n\" style=\"fill:none;stroke:#000000;stroke-linecap:square;stroke-linejoin:miter;stroke-width:0.8;\"/>\n   </g>\n   <g id=\"patch_24\">\n    <path d=\"M 90.877941 150.465825 \nL 90.877941 86.512884 \n\" style=\"fill:none;stroke:#000000;stroke-linecap:square;stroke-linejoin:miter;stroke-width:0.8;\"/>\n   </g>\n   <g id=\"patch_25\">\n    <path d=\"M 26.925 150.465825 \nL 90.877941 150.465825 \n\" style=\"fill:none;stroke:#000000;stroke-linecap:square;stroke-linejoin:miter;stroke-width:0.8;\"/>\n   </g>\n   <g id=\"patch_26\">\n    <path d=\"M 26.925 86.512884 \nL 90.877941 86.512884 \n\" style=\"fill:none;stroke:#000000;stroke-linecap:square;stroke-linejoin:miter;stroke-width:0.8;\"/>\n   </g>\n  </g>\n  <g id=\"axes_6\">\n   <g id=\"patch_27\">\n    <path d=\"M 114.26413 150.465825 \nL 178.217072 150.465825 \nL 178.217072 86.512884 \nL 114.26413 86.512884 \nz\n\" style=\"fill:#ffffff;\"/>\n   </g>\n   <g clip-path=\"url(#p7fa604c5f0)\">\n    <image height=\"64\" id=\"image76d585f49c\" transform=\"scale(1 -1)translate(0 -64)\" width=\"64\" x=\"114.26413\" xlink:href=\"data:image/png;base64,\niVBORw0KGgoAAAANSUhEUgAAAEAAAABACAYAAACqaXHeAAABzElEQVR4nO2avUoDQRSFZzaJMfEHsRBTBES01lKInSBYiC8giqCFrdjZCj6FiAiKb5BGhYCdhUqwtFA0oIRIfkwkm42VxXK2WHThRO79uj1Mdg4flyETYnOpza4RjMMuwEYFsAuwUQHsAmxUALsAGxXALsBGBbALsFEB7AJsxAuwxsR64jqcS22EWnfdPIp0X/EToALYBdiIF9AzhyAL8ROgAtgF2IgXEGcX+GE0PQNZaf8BsuROO9J9xU+ACmAXYCNeQHwvuw3h2uwdZI+lDGTlVhqy1eJJqI1d79j33KjcwBp7X4MsOzgB2XP9MtSeQYifABXALsDGBv1DpM/EYKFjLWStrgtZw7Ygu/08g6x92u97XtlahzVVD7/0vDnvkF0sP0H28opn1lwhD5n4CVAB7AJsxAsIPAT/gms6kCVNArJC8zDKbX+N+AlQAewCbMQLiPwnsUTIV04OLPme8wsVWDMyVoas08b31z+GIavWhiCbOp+GTPwEqAB2ATbiBUR+CDoGr80d40GW8cb9n3PwwPuq409uB1fzkBWreAUP2nN3EQ9a8ROgAtgF2IgXEPl1+L8hfgJUALsAGxXALsBGBbALsFEB7AJsvgH/7lMPgtfgZgAAAABJRU5ErkJggg==\" y=\"-86.465825\"/>\n   </g>\n   <g id=\"matplotlib.axis_11\">\n    <g id=\"xtick_11\">\n     <g id=\"line2d_26\">\n      <g>\n       <use style=\"stroke:#000000;stroke-width:0.8;\" x=\"116.723859\" xlink:href=\"#mb85aebadcb\" y=\"150.465825\"/>\n      </g>\n     </g>\n     <g id=\"text_26\">\n      <!-- 0 -->\n      <g transform=\"translate(113.542609 165.064263)scale(0.1 -0.1)\">\n       <use xlink:href=\"#DejaVuSans-48\"/>\n      </g>\n     </g>\n    </g>\n    <g id=\"xtick_12\">\n     <g id=\"line2d_27\">\n      <g>\n       <use style=\"stroke:#000000;stroke-width:0.8;\" x=\"165.918429\" xlink:href=\"#mb85aebadcb\" y=\"150.465825\"/>\n      </g>\n     </g>\n     <g id=\"text_27\">\n      <!-- 10 -->\n      <g transform=\"translate(159.555929 165.064263)scale(0.1 -0.1)\">\n       <use xlink:href=\"#DejaVuSans-49\"/>\n       <use x=\"63.623047\" xlink:href=\"#DejaVuSans-48\"/>\n      </g>\n     </g>\n    </g>\n   </g>\n   <g id=\"matplotlib.axis_12\">\n    <g id=\"ytick_16\">\n     <g id=\"line2d_28\">\n      <g>\n       <use style=\"stroke:#000000;stroke-width:0.8;\" x=\"114.26413\" xlink:href=\"#m56a36966f4\" y=\"88.972612\"/>\n      </g>\n     </g>\n     <g id=\"text_28\">\n      <!-- 0 -->\n      <g transform=\"translate(100.90163 92.771831)scale(0.1 -0.1)\">\n       <use xlink:href=\"#DejaVuSans-48\"/>\n      </g>\n     </g>\n    </g>\n    <g id=\"ytick_17\">\n     <g id=\"line2d_29\">\n      <g>\n       <use style=\"stroke:#000000;stroke-width:0.8;\" x=\"114.26413\" xlink:href=\"#m56a36966f4\" y=\"113.569897\"/>\n      </g>\n     </g>\n     <g id=\"text_29\">\n      <!-- 5 -->\n      <g transform=\"translate(100.90163 117.369116)scale(0.1 -0.1)\">\n       <use xlink:href=\"#DejaVuSans-53\"/>\n      </g>\n     </g>\n    </g>\n    <g id=\"ytick_18\">\n     <g id=\"line2d_30\">\n      <g>\n       <use style=\"stroke:#000000;stroke-width:0.8;\" x=\"114.26413\" xlink:href=\"#m56a36966f4\" y=\"138.167183\"/>\n      </g>\n     </g>\n     <g id=\"text_30\">\n      <!-- 10 -->\n      <g transform=\"translate(94.53913 141.966401)scale(0.1 -0.1)\">\n       <use xlink:href=\"#DejaVuSans-49\"/>\n       <use x=\"63.623047\" xlink:href=\"#DejaVuSans-48\"/>\n      </g>\n     </g>\n    </g>\n   </g>\n   <g id=\"patch_28\">\n    <path d=\"M 114.26413 150.465825 \nL 114.26413 86.512884 \n\" style=\"fill:none;stroke:#000000;stroke-linecap:square;stroke-linejoin:miter;stroke-width:0.8;\"/>\n   </g>\n   <g id=\"patch_29\">\n    <path d=\"M 178.217072 150.465825 \nL 178.217072 86.512884 \n\" style=\"fill:none;stroke:#000000;stroke-linecap:square;stroke-linejoin:miter;stroke-width:0.8;\"/>\n   </g>\n   <g id=\"patch_30\">\n    <path d=\"M 114.26413 150.465825 \nL 178.217072 150.465825 \n\" style=\"fill:none;stroke:#000000;stroke-linecap:square;stroke-linejoin:miter;stroke-width:0.8;\"/>\n   </g>\n   <g id=\"patch_31\">\n    <path d=\"M 114.26413 86.512884 \nL 178.217072 86.512884 \n\" style=\"fill:none;stroke:#000000;stroke-linecap:square;stroke-linejoin:miter;stroke-width:0.8;\"/>\n   </g>\n  </g>\n  <g id=\"axes_7\">\n   <g id=\"patch_32\">\n    <path d=\"M 201.603261 150.465825 \nL 265.556202 150.465825 \nL 265.556202 86.512884 \nL 201.603261 86.512884 \nz\n\" style=\"fill:#ffffff;\"/>\n   </g>\n   <g clip-path=\"url(#paa958cc135)\">\n    <image height=\"64\" id=\"imagea0b569bcb0\" transform=\"scale(1 -1)translate(0 -64)\" width=\"64\" x=\"201.603261\" xlink:href=\"data:image/png;base64,\niVBORw0KGgoAAAANSUhEUgAAAEAAAABACAYAAACqaXHeAAABNklEQVR4nO2ZMYoCQRBFp3sGF0Qx8AAKG3kEAzMNPIWZseA5vICR9zDZPcQGi5h5AVGMtPUAU8ng6BPqv7Ac2sejEHoMWZbfM8dEWoBGAWgBGgWgBWiK5lff/GCYT8z5f9yVZofzT41KZVbfc3O+3K9Ls15rbD7bSV1z7n4DFIAWoFEAWoAmfNZdIJjTa9qY8yLOnv5G9xugALQAjfsAH/Yj+H7cb4AC0AI0CkAL0BR1HBJj25yndKrj+JfifgMUgBagUQBagEZ3AVqARgFoARoFoAVoarkLVOVvOjLni9+BOd9eyn+CViWEhjl3vwEKQAvQKAAtQKO7AC1AowC0AI0C0AI0CkAL0CgALUDjPgDyQqQqeeyY81s6Pn22+w1QAFqARgFoARq9EKEFaBSAFqBRAFqA5gEdWh4mdheY3AAAAABJRU5ErkJggg==\" y=\"-86.465825\"/>\n   </g>\n   <g id=\"matplotlib.axis_13\">\n    <g id=\"xtick_13\">\n     <g id=\"line2d_31\">\n      <g>\n       <use style=\"stroke:#000000;stroke-width:0.8;\" x=\"204.510213\" xlink:href=\"#mb85aebadcb\" y=\"150.465825\"/>\n      </g>\n     </g>\n     <g id=\"text_31\">\n      <!-- 0 -->\n      <g transform=\"translate(201.328963 165.064263)scale(0.1 -0.1)\">\n       <use xlink:href=\"#DejaVuSans-48\"/>\n      </g>\n     </g>\n    </g>\n    <g id=\"xtick_14\">\n     <g id=\"line2d_32\">\n      <g>\n       <use style=\"stroke:#000000;stroke-width:0.8;\" x=\"262.64925\" xlink:href=\"#mb85aebadcb\" y=\"150.465825\"/>\n      </g>\n     </g>\n     <g id=\"text_32\">\n      <!-- 10 -->\n      <g transform=\"translate(256.28675 165.064263)scale(0.1 -0.1)\">\n       <use xlink:href=\"#DejaVuSans-49\"/>\n       <use x=\"63.623047\" xlink:href=\"#DejaVuSans-48\"/>\n      </g>\n     </g>\n    </g>\n   </g>\n   <g id=\"matplotlib.axis_14\">\n    <g id=\"ytick_19\">\n     <g id=\"line2d_33\">\n      <g>\n       <use style=\"stroke:#000000;stroke-width:0.8;\" x=\"201.603261\" xlink:href=\"#m56a36966f4\" y=\"89.419836\"/>\n      </g>\n     </g>\n     <g id=\"text_33\">\n      <!-- 0 -->\n      <g transform=\"translate(188.240761 93.219055)scale(0.1 -0.1)\">\n       <use xlink:href=\"#DejaVuSans-48\"/>\n      </g>\n     </g>\n    </g>\n    <g id=\"ytick_20\">\n     <g id=\"line2d_34\">\n      <g>\n       <use style=\"stroke:#000000;stroke-width:0.8;\" x=\"201.603261\" xlink:href=\"#m56a36966f4\" y=\"118.489354\"/>\n      </g>\n     </g>\n     <g id=\"text_34\">\n      <!-- 5 -->\n      <g transform=\"translate(188.240761 122.288573)scale(0.1 -0.1)\">\n       <use xlink:href=\"#DejaVuSans-53\"/>\n      </g>\n     </g>\n    </g>\n    <g id=\"ytick_21\">\n     <g id=\"line2d_35\">\n      <g>\n       <use style=\"stroke:#000000;stroke-width:0.8;\" x=\"201.603261\" xlink:href=\"#m56a36966f4\" y=\"147.558873\"/>\n      </g>\n     </g>\n     <g id=\"text_35\">\n      <!-- 10 -->\n      <g transform=\"translate(181.878261 151.358092)scale(0.1 -0.1)\">\n       <use xlink:href=\"#DejaVuSans-49\"/>\n       <use x=\"63.623047\" xlink:href=\"#DejaVuSans-48\"/>\n      </g>\n     </g>\n    </g>\n   </g>\n   <g id=\"patch_33\">\n    <path d=\"M 201.603261 150.465825 \nL 201.603261 86.512884 \n\" style=\"fill:none;stroke:#000000;stroke-linecap:square;stroke-linejoin:miter;stroke-width:0.8;\"/>\n   </g>\n   <g id=\"patch_34\">\n    <path d=\"M 265.556202 150.465825 \nL 265.556202 86.512884 \n\" style=\"fill:none;stroke:#000000;stroke-linecap:square;stroke-linejoin:miter;stroke-width:0.8;\"/>\n   </g>\n   <g id=\"patch_35\">\n    <path d=\"M 201.603261 150.465825 \nL 265.556202 150.465825 \n\" style=\"fill:none;stroke:#000000;stroke-linecap:square;stroke-linejoin:miter;stroke-width:0.8;\"/>\n   </g>\n   <g id=\"patch_36\">\n    <path d=\"M 201.603261 86.512884 \nL 265.556202 86.512884 \n\" style=\"fill:none;stroke:#000000;stroke-linecap:square;stroke-linejoin:miter;stroke-width:0.8;\"/>\n   </g>\n  </g>\n  <g id=\"axes_8\">\n   <g id=\"patch_37\">\n    <path d=\"M 288.942391 150.465825 \nL 352.895332 150.465825 \nL 352.895332 86.512884 \nL 288.942391 86.512884 \nz\n\" style=\"fill:#ffffff;\"/>\n   </g>\n   <g clip-path=\"url(#pe315bfd4df)\">\n    <image height=\"64\" id=\"image919265b894\" transform=\"scale(1 -1)translate(0 -64)\" width=\"64\" x=\"288.942391\" xlink:href=\"data:image/png;base64,\niVBORw0KGgoAAAANSUhEUgAAAEAAAABACAYAAACqaXHeAAABBElEQVR4nO2XoQ0CQRBF9/ZQJHBFoCgChaIT5NWDI5RxBopAECwNEAgKFipA/BP3CPOf3sm+vIyZajlev5PIKZ/VkXS576X3z7KV/5hNd/JMlif+DAegBWgcgBagcQBagMYBaAEaB6AFaMIHqFKq5WMo54n8USk3eWYIwm+AA9ACNA5AC9A4AC1A4wC0AI0D0AI04QP0Oob6cFwtpPftYS7/0T028kz4DXAAWoDGAWgBGgegBWgcgBagcQBagGawW+BXCb8BDkAL0DgALUDjALQAjQPQAjQOQAvQhA8wogW+UedGnnmVqzwTfgMcgBagcQBagMYBaAEaB6AFaByAFqAJH+ADF8YX9gn5ZeMAAAAASUVORK5CYII=\" y=\"-86.465825\"/>\n   </g>\n   <g id=\"matplotlib.axis_15\">\n    <g id=\"xtick_15\">\n     <g id=\"line2d_36\">\n      <g>\n       <use style=\"stroke:#000000;stroke-width:0.8;\" x=\"295.337685\" xlink:href=\"#mb85aebadcb\" y=\"150.465825\"/>\n      </g>\n     </g>\n     <g id=\"text_36\">\n      <!-- 0.0 -->\n      <g transform=\"translate(287.386123 165.064263)scale(0.1 -0.1)\">\n       <use xlink:href=\"#DejaVuSans-48\"/>\n       <use x=\"63.623047\" xlink:href=\"#DejaVuSans-46\"/>\n       <use x=\"95.410156\" xlink:href=\"#DejaVuSans-48\"/>\n      </g>\n     </g>\n    </g>\n    <g id=\"xtick_16\">\n     <g id=\"line2d_37\">\n      <g>\n       <use style=\"stroke:#000000;stroke-width:0.8;\" x=\"327.314156\" xlink:href=\"#mb85aebadcb\" y=\"150.465825\"/>\n      </g>\n     </g>\n     <g id=\"text_37\">\n      <!-- 2.5 -->\n      <g transform=\"translate(319.362594 165.064263)scale(0.1 -0.1)\">\n       <use xlink:href=\"#DejaVuSans-50\"/>\n       <use x=\"63.623047\" xlink:href=\"#DejaVuSans-46\"/>\n       <use x=\"95.410156\" xlink:href=\"#DejaVuSans-53\"/>\n      </g>\n     </g>\n    </g>\n   </g>\n   <g id=\"matplotlib.axis_16\">\n    <g id=\"ytick_22\">\n     <g id=\"line2d_38\">\n      <g>\n       <use style=\"stroke:#000000;stroke-width:0.8;\" x=\"288.942391\" xlink:href=\"#m56a36966f4\" y=\"92.908178\"/>\n      </g>\n     </g>\n     <g id=\"text_38\">\n      <!-- 0 -->\n      <g transform=\"translate(275.579891 96.707397)scale(0.1 -0.1)\">\n       <use xlink:href=\"#DejaVuSans-48\"/>\n      </g>\n     </g>\n    </g>\n    <g id=\"ytick_23\">\n     <g id=\"line2d_39\">\n      <g>\n       <use style=\"stroke:#000000;stroke-width:0.8;\" x=\"288.942391\" xlink:href=\"#m56a36966f4\" y=\"118.489354\"/>\n      </g>\n     </g>\n     <g id=\"text_39\">\n      <!-- 2 -->\n      <g transform=\"translate(275.579891 122.288573)scale(0.1 -0.1)\">\n       <use xlink:href=\"#DejaVuSans-50\"/>\n      </g>\n     </g>\n    </g>\n    <g id=\"ytick_24\">\n     <g id=\"line2d_40\">\n      <g>\n       <use style=\"stroke:#000000;stroke-width:0.8;\" x=\"288.942391\" xlink:href=\"#m56a36966f4\" y=\"144.070531\"/>\n      </g>\n     </g>\n     <g id=\"text_40\">\n      <!-- 4 -->\n      <g transform=\"translate(275.579891 147.86975)scale(0.1 -0.1)\">\n       <use xlink:href=\"#DejaVuSans-52\"/>\n      </g>\n     </g>\n    </g>\n   </g>\n   <g id=\"patch_38\">\n    <path d=\"M 288.942391 150.465825 \nL 288.942391 86.512884 \n\" style=\"fill:none;stroke:#000000;stroke-linecap:square;stroke-linejoin:miter;stroke-width:0.8;\"/>\n   </g>\n   <g id=\"patch_39\">\n    <path d=\"M 352.895332 150.465825 \nL 352.895332 86.512884 \n\" style=\"fill:none;stroke:#000000;stroke-linecap:square;stroke-linejoin:miter;stroke-width:0.8;\"/>\n   </g>\n   <g id=\"patch_40\">\n    <path d=\"M 288.942391 150.465825 \nL 352.895332 150.465825 \n\" style=\"fill:none;stroke:#000000;stroke-linecap:square;stroke-linejoin:miter;stroke-width:0.8;\"/>\n   </g>\n   <g id=\"patch_41\">\n    <path d=\"M 288.942391 86.512884 \nL 352.895332 86.512884 \n\" style=\"fill:none;stroke:#000000;stroke-linecap:square;stroke-linejoin:miter;stroke-width:0.8;\"/>\n   </g>\n  </g>\n  <g id=\"axes_9\">\n   <g id=\"patch_42\">\n    <path d=\"M 26.925 227.209354 \nL 90.877941 227.209354 \nL 90.877941 163.256413 \nL 26.925 163.256413 \nz\n\" style=\"fill:#ffffff;\"/>\n   </g>\n   <g clip-path=\"url(#pb23646dc56)\">\n    <image height=\"64\" id=\"image37ed680ca0\" transform=\"scale(1 -1)translate(0 -64)\" width=\"64\" x=\"26.925\" xlink:href=\"data:image/png;base64,\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\" y=\"-163.209354\"/>\n   </g>\n   <g id=\"matplotlib.axis_17\">\n    <g id=\"xtick_17\">\n     <g id=\"line2d_41\">\n      <g>\n       <use style=\"stroke:#000000;stroke-width:0.8;\" x=\"28.154864\" xlink:href=\"#mb85aebadcb\" y=\"227.209354\"/>\n      </g>\n     </g>\n     <g id=\"text_41\">\n      <!-- 0 -->\n      <g transform=\"translate(24.973614 241.807792)scale(0.1 -0.1)\">\n       <use xlink:href=\"#DejaVuSans-48\"/>\n      </g>\n     </g>\n    </g>\n    <g id=\"xtick_18\">\n     <g id=\"line2d_42\">\n      <g>\n       <use style=\"stroke:#000000;stroke-width:0.8;\" x=\"77.349434\" xlink:href=\"#mb85aebadcb\" y=\"227.209354\"/>\n      </g>\n     </g>\n     <g id=\"text_42\">\n      <!-- 20 -->\n      <g transform=\"translate(70.986934 241.807792)scale(0.1 -0.1)\">\n       <use xlink:href=\"#DejaVuSans-50\"/>\n       <use x=\"63.623047\" xlink:href=\"#DejaVuSans-48\"/>\n      </g>\n     </g>\n    </g>\n   </g>\n   <g id=\"matplotlib.axis_18\">\n    <g id=\"ytick_25\">\n     <g id=\"line2d_43\">\n      <g>\n       <use style=\"stroke:#000000;stroke-width:0.8;\" x=\"26.925\" xlink:href=\"#m56a36966f4\" y=\"164.486278\"/>\n      </g>\n     </g>\n     <g id=\"text_43\">\n      <!-- 0 -->\n      <g transform=\"translate(13.5625 168.285496)scale(0.1 -0.1)\">\n       <use xlink:href=\"#DejaVuSans-48\"/>\n      </g>\n     </g>\n    </g>\n    <g id=\"ytick_26\">\n     <g id=\"line2d_44\">\n      <g>\n       <use style=\"stroke:#000000;stroke-width:0.8;\" x=\"26.925\" xlink:href=\"#m56a36966f4\" y=\"189.083563\"/>\n      </g>\n     </g>\n     <g id=\"text_44\">\n      <!-- 10 -->\n      <g transform=\"translate(7.2 192.882781)scale(0.1 -0.1)\">\n       <use xlink:href=\"#DejaVuSans-49\"/>\n       <use x=\"63.623047\" xlink:href=\"#DejaVuSans-48\"/>\n      </g>\n     </g>\n    </g>\n    <g id=\"ytick_27\">\n     <g id=\"line2d_45\">\n      <g>\n       <use style=\"stroke:#000000;stroke-width:0.8;\" x=\"26.925\" xlink:href=\"#m56a36966f4\" y=\"213.680848\"/>\n      </g>\n     </g>\n     <g id=\"text_45\">\n      <!-- 20 -->\n      <g transform=\"translate(7.2 217.480066)scale(0.1 -0.1)\">\n       <use xlink:href=\"#DejaVuSans-50\"/>\n       <use x=\"63.623047\" xlink:href=\"#DejaVuSans-48\"/>\n      </g>\n     </g>\n    </g>\n   </g>\n   <g id=\"patch_43\">\n    <path d=\"M 26.925 227.209354 \nL 26.925 163.256413 \n\" style=\"fill:none;stroke:#000000;stroke-linecap:square;stroke-linejoin:miter;stroke-width:0.8;\"/>\n   </g>\n   <g id=\"patch_44\">\n    <path d=\"M 90.877941 227.209354 \nL 90.877941 163.256413 \n\" style=\"fill:none;stroke:#000000;stroke-linecap:square;stroke-linejoin:miter;stroke-width:0.8;\"/>\n   </g>\n   <g id=\"patch_45\">\n    <path d=\"M 26.925 227.209354 \nL 90.877941 227.209354 \n\" style=\"fill:none;stroke:#000000;stroke-linecap:square;stroke-linejoin:miter;stroke-width:0.8;\"/>\n   </g>\n   <g id=\"patch_46\">\n    <path d=\"M 26.925 163.256413 \nL 90.877941 163.256413 \n\" style=\"fill:none;stroke:#000000;stroke-linecap:square;stroke-linejoin:miter;stroke-width:0.8;\"/>\n   </g>\n  </g>\n  <g id=\"axes_10\">\n   <g id=\"patch_47\">\n    <path d=\"M 114.26413 227.209354 \nL 178.217072 227.209354 \nL 178.217072 163.256413 \nL 114.26413 163.256413 \nz\n\" style=\"fill:#ffffff;\"/>\n   </g>\n   <g clip-path=\"url(#p6f6a5b74fd)\">\n    <image height=\"64\" id=\"image2ed4a17959\" transform=\"scale(1 -1)translate(0 -64)\" width=\"64\" x=\"114.26413\" xlink:href=\"data:image/png;base64,\niVBORw0KGgoAAAANSUhEUgAAAEAAAABACAYAAACqaXHeAAABqklEQVR4nO2bPUvDUBiF7zWpFgMZulR3keLiWvAn6BRndVXQQcHJP+APEBV06ubi6Caurk4OClLQQYdCI1a02jiHc4erpjmU9322HELv6cPLpc2HTeLNzAhmjF2AjQpgF2AjXkDoCq2xkGXGb688T48gS+KNX9YqD/EToALYBdiIF2Dr0QLsbs9v14wuFMRPgApgF2AjXoA1JtC/w5JRAewCbFQAuwAbFcAuwEYFsAuwCdPdOoQT0x3I3tt43uA7gKx20C6mWUmInwAVwC7ARryAcPU4gXC98QJZ96MKWWPqCTJrMMvM1x/rDR/xE6AC2AXY2OV4Cy6JVRxaMs8LZ33HibMx3mzdfzz0+8AhI34CVAC7ABvxApxPiHwOir1VcJdiVpuczx13ejeFrumL+AlQAewCbMQLCH0ff/sPrjWatpk7vjDD3wT7rQpk4idABbALsBEvwPlLsAyqQd79TLQI59yeXELWW9qBbPzhCheYW4HIBhFk4idABbALsBEvwI7aW2Nnpy3I9rbXILt/9fta4idABbALsBEvYOQ2waIRPwEqgF2AjXgBP0f3RaYXHmujAAAAAElFTkSuQmCC\" y=\"-163.209354\"/>\n   </g>\n   <g id=\"matplotlib.axis_19\">\n    <g id=\"xtick_19\">\n     <g id=\"line2d_46\">\n      <g>\n       <use style=\"stroke:#000000;stroke-width:0.8;\" x=\"116.723859\" xlink:href=\"#mb85aebadcb\" y=\"227.209354\"/>\n      </g>\n     </g>\n     <g id=\"text_46\">\n      <!-- 0 -->\n      <g transform=\"translate(113.542609 241.807792)scale(0.1 -0.1)\">\n       <use xlink:href=\"#DejaVuSans-48\"/>\n      </g>\n     </g>\n    </g>\n    <g id=\"xtick_20\">\n     <g id=\"line2d_47\">\n      <g>\n       <use style=\"stroke:#000000;stroke-width:0.8;\" x=\"165.918429\" xlink:href=\"#mb85aebadcb\" y=\"227.209354\"/>\n      </g>\n     </g>\n     <g id=\"text_47\">\n      <!-- 10 -->\n      <g transform=\"translate(159.555929 241.807792)scale(0.1 -0.1)\">\n       <use xlink:href=\"#DejaVuSans-49\"/>\n       <use x=\"63.623047\" xlink:href=\"#DejaVuSans-48\"/>\n      </g>\n     </g>\n    </g>\n   </g>\n   <g id=\"matplotlib.axis_20\">\n    <g id=\"ytick_28\">\n     <g id=\"line2d_48\">\n      <g>\n       <use style=\"stroke:#000000;stroke-width:0.8;\" x=\"114.26413\" xlink:href=\"#m56a36966f4\" y=\"165.716142\"/>\n      </g>\n     </g>\n     <g id=\"text_48\">\n      <!-- 0 -->\n      <g transform=\"translate(100.90163 169.515361)scale(0.1 -0.1)\">\n       <use xlink:href=\"#DejaVuSans-48\"/>\n      </g>\n     </g>\n    </g>\n    <g id=\"ytick_29\">\n     <g id=\"line2d_49\">\n      <g>\n       <use style=\"stroke:#000000;stroke-width:0.8;\" x=\"114.26413\" xlink:href=\"#m56a36966f4\" y=\"190.313427\"/>\n      </g>\n     </g>\n     <g id=\"text_49\">\n      <!-- 5 -->\n      <g transform=\"translate(100.90163 194.112646)scale(0.1 -0.1)\">\n       <use xlink:href=\"#DejaVuSans-53\"/>\n      </g>\n     </g>\n    </g>\n    <g id=\"ytick_30\">\n     <g id=\"line2d_50\">\n      <g>\n       <use style=\"stroke:#000000;stroke-width:0.8;\" x=\"114.26413\" xlink:href=\"#m56a36966f4\" y=\"214.910712\"/>\n      </g>\n     </g>\n     <g id=\"text_50\">\n      <!-- 10 -->\n      <g transform=\"translate(94.53913 218.709931)scale(0.1 -0.1)\">\n       <use xlink:href=\"#DejaVuSans-49\"/>\n       <use x=\"63.623047\" xlink:href=\"#DejaVuSans-48\"/>\n      </g>\n     </g>\n    </g>\n   </g>\n   <g id=\"patch_48\">\n    <path d=\"M 114.26413 227.209354 \nL 114.26413 163.256413 \n\" style=\"fill:none;stroke:#000000;stroke-linecap:square;stroke-linejoin:miter;stroke-width:0.8;\"/>\n   </g>\n   <g id=\"patch_49\">\n    <path d=\"M 178.217072 227.209354 \nL 178.217072 163.256413 \n\" style=\"fill:none;stroke:#000000;stroke-linecap:square;stroke-linejoin:miter;stroke-width:0.8;\"/>\n   </g>\n   <g id=\"patch_50\">\n    <path d=\"M 114.26413 227.209354 \nL 178.217072 227.209354 \n\" style=\"fill:none;stroke:#000000;stroke-linecap:square;stroke-linejoin:miter;stroke-width:0.8;\"/>\n   </g>\n   <g id=\"patch_51\">\n    <path d=\"M 114.26413 163.256413 \nL 178.217072 163.256413 \n\" style=\"fill:none;stroke:#000000;stroke-linecap:square;stroke-linejoin:miter;stroke-width:0.8;\"/>\n   </g>\n  </g>\n  <g id=\"axes_11\">\n   <g id=\"patch_52\">\n    <path d=\"M 201.603261 227.209354 \nL 265.556202 227.209354 \nL 265.556202 163.256413 \nL 201.603261 163.256413 \nz\n\" style=\"fill:#ffffff;\"/>\n   </g>\n   <g clip-path=\"url(#pa1612babc2)\">\n    <image height=\"64\" id=\"image5b6109f106\" transform=\"scale(1 -1)translate(0 -64)\" width=\"64\" x=\"201.603261\" xlink:href=\"data:image/png;base64,\niVBORw0KGgoAAAANSUhEUgAAAEAAAABACAYAAACqaXHeAAAA8klEQVR4nO3asW1CMRhFYb+AWCQVI6SAWZ7YiyipUTpWgIIBoKBhDxBhgOcGhPgkfE/5y7KPjiy5cXdeTv5LhePfV21cdqfPwazf/1bXPovLtb7/drYazOab9V17fzxk9EYkgBbQJIAW0HSljKqvQCs0fwMSQAtoEkALaBJAC2gSQAtoEkALaBJAC2gSQAtoEkALaBJAC2gSQAtoEkALaBJAC2gSQAtoEkALaBJAC2gSQAtomg8wFod+T/vqfHH4ealHKbkBCZAAWkDTfIB8lNQCmgTQApoE0AKaBNACmgTQApoE0AKaBNACmgTQAprmA9wAnCwThq3tsLAAAAAASUVORK5CYII=\" y=\"-163.209354\"/>\n   </g>\n   <g id=\"matplotlib.axis_21\">\n    <g id=\"xtick_21\">\n     <g id=\"line2d_51\">\n      <g>\n       <use style=\"stroke:#000000;stroke-width:0.8;\" x=\"204.510213\" xlink:href=\"#mb85aebadcb\" y=\"227.209354\"/>\n      </g>\n     </g>\n     <g id=\"text_51\">\n      <!-- 0 -->\n      <g transform=\"translate(201.328963 241.807792)scale(0.1 -0.1)\">\n       <use xlink:href=\"#DejaVuSans-48\"/>\n      </g>\n     </g>\n    </g>\n    <g id=\"xtick_22\">\n     <g id=\"line2d_52\">\n      <g>\n       <use style=\"stroke:#000000;stroke-width:0.8;\" x=\"262.64925\" xlink:href=\"#mb85aebadcb\" y=\"227.209354\"/>\n      </g>\n     </g>\n     <g id=\"text_52\">\n      <!-- 10 -->\n      <g transform=\"translate(256.28675 241.807792)scale(0.1 -0.1)\">\n       <use xlink:href=\"#DejaVuSans-49\"/>\n       <use x=\"63.623047\" xlink:href=\"#DejaVuSans-48\"/>\n      </g>\n     </g>\n    </g>\n   </g>\n   <g id=\"matplotlib.axis_22\">\n    <g id=\"ytick_31\">\n     <g id=\"line2d_53\">\n      <g>\n       <use style=\"stroke:#000000;stroke-width:0.8;\" x=\"201.603261\" xlink:href=\"#m56a36966f4\" y=\"166.163365\"/>\n      </g>\n     </g>\n     <g id=\"text_53\">\n      <!-- 0 -->\n      <g transform=\"translate(188.240761 169.962584)scale(0.1 -0.1)\">\n       <use xlink:href=\"#DejaVuSans-48\"/>\n      </g>\n     </g>\n    </g>\n    <g id=\"ytick_32\">\n     <g id=\"line2d_54\">\n      <g>\n       <use style=\"stroke:#000000;stroke-width:0.8;\" x=\"201.603261\" xlink:href=\"#m56a36966f4\" y=\"195.232884\"/>\n      </g>\n     </g>\n     <g id=\"text_54\">\n      <!-- 5 -->\n      <g transform=\"translate(188.240761 199.032103)scale(0.1 -0.1)\">\n       <use xlink:href=\"#DejaVuSans-53\"/>\n      </g>\n     </g>\n    </g>\n    <g id=\"ytick_33\">\n     <g id=\"line2d_55\">\n      <g>\n       <use style=\"stroke:#000000;stroke-width:0.8;\" x=\"201.603261\" xlink:href=\"#m56a36966f4\" y=\"224.302403\"/>\n      </g>\n     </g>\n     <g id=\"text_55\">\n      <!-- 10 -->\n      <g transform=\"translate(181.878261 228.101621)scale(0.1 -0.1)\">\n       <use xlink:href=\"#DejaVuSans-49\"/>\n       <use x=\"63.623047\" xlink:href=\"#DejaVuSans-48\"/>\n      </g>\n     </g>\n    </g>\n   </g>\n   <g id=\"patch_53\">\n    <path d=\"M 201.603261 227.209354 \nL 201.603261 163.256413 \n\" style=\"fill:none;stroke:#000000;stroke-linecap:square;stroke-linejoin:miter;stroke-width:0.8;\"/>\n   </g>\n   <g id=\"patch_54\">\n    <path d=\"M 265.556202 227.209354 \nL 265.556202 163.256413 \n\" style=\"fill:none;stroke:#000000;stroke-linecap:square;stroke-linejoin:miter;stroke-width:0.8;\"/>\n   </g>\n   <g id=\"patch_55\">\n    <path d=\"M 201.603261 227.209354 \nL 265.556202 227.209354 \n\" style=\"fill:none;stroke:#000000;stroke-linecap:square;stroke-linejoin:miter;stroke-width:0.8;\"/>\n   </g>\n   <g id=\"patch_56\">\n    <path d=\"M 201.603261 163.256413 \nL 265.556202 163.256413 \n\" style=\"fill:none;stroke:#000000;stroke-linecap:square;stroke-linejoin:miter;stroke-width:0.8;\"/>\n   </g>\n  </g>\n  <g id=\"axes_12\">\n   <g id=\"patch_57\">\n    <path d=\"M 288.942391 227.209354 \nL 352.895332 227.209354 \nL 352.895332 163.256413 \nL 288.942391 163.256413 \nz\n\" style=\"fill:#ffffff;\"/>\n   </g>\n   <g clip-path=\"url(#p488c17c67d)\">\n    <image height=\"64\" id=\"image4aef57dd98\" transform=\"scale(1 -1)translate(0 -64)\" width=\"64\" x=\"288.942391\" xlink:href=\"data:image/png;base64,\niVBORw0KGgoAAAANSUhEUgAAAEAAAABACAYAAACqaXHeAAAAsklEQVR4nO3bMQ7CUAzA0N/Se3I27lnRzowM8IbYc6RYVtZsaz2uNZhdC2gKoAU0BdACmgJoAU0BtICmAFpAUwAtoCmAFtAUQAtoCqAFNAXQApoCaAFNAbSApgBaQFMALaApgBbQFEALaAqgBTQF0AKa41+Lzvfrq/ljf/7I5JPxF1AALaApgBbQFEALaAqgBTQF0AKa8QG2XmaGUwAtoCmAFtAUQAtoCqAFNAXQAprxAW5eDAWFfi6ayAAAAABJRU5ErkJggg==\" y=\"-163.209354\"/>\n   </g>\n   <g id=\"matplotlib.axis_23\">\n    <g id=\"xtick_23\">\n     <g id=\"line2d_56\">\n      <g>\n       <use style=\"stroke:#000000;stroke-width:0.8;\" x=\"295.337685\" xlink:href=\"#mb85aebadcb\" y=\"227.209354\"/>\n      </g>\n     </g>\n     <g id=\"text_56\">\n      <!-- 0.0 -->\n      <g transform=\"translate(287.386123 241.807792)scale(0.1 -0.1)\">\n       <use xlink:href=\"#DejaVuSans-48\"/>\n       <use x=\"63.623047\" xlink:href=\"#DejaVuSans-46\"/>\n       <use x=\"95.410156\" xlink:href=\"#DejaVuSans-48\"/>\n      </g>\n     </g>\n    </g>\n    <g id=\"xtick_24\">\n     <g id=\"line2d_57\">\n      <g>\n       <use style=\"stroke:#000000;stroke-width:0.8;\" x=\"327.314156\" xlink:href=\"#mb85aebadcb\" y=\"227.209354\"/>\n      </g>\n     </g>\n     <g id=\"text_57\">\n      <!-- 2.5 -->\n      <g transform=\"translate(319.362594 241.807792)scale(0.1 -0.1)\">\n       <use xlink:href=\"#DejaVuSans-50\"/>\n       <use x=\"63.623047\" xlink:href=\"#DejaVuSans-46\"/>\n       <use x=\"95.410156\" xlink:href=\"#DejaVuSans-53\"/>\n      </g>\n     </g>\n    </g>\n   </g>\n   <g id=\"matplotlib.axis_24\">\n    <g id=\"ytick_34\">\n     <g id=\"line2d_58\">\n      <g>\n       <use style=\"stroke:#000000;stroke-width:0.8;\" x=\"288.942391\" xlink:href=\"#m56a36966f4\" y=\"169.651707\"/>\n      </g>\n     </g>\n     <g id=\"text_58\">\n      <!-- 0 -->\n      <g transform=\"translate(275.579891 173.450926)scale(0.1 -0.1)\">\n       <use xlink:href=\"#DejaVuSans-48\"/>\n      </g>\n     </g>\n    </g>\n    <g id=\"ytick_35\">\n     <g id=\"line2d_59\">\n      <g>\n       <use style=\"stroke:#000000;stroke-width:0.8;\" x=\"288.942391\" xlink:href=\"#m56a36966f4\" y=\"195.232884\"/>\n      </g>\n     </g>\n     <g id=\"text_59\">\n      <!-- 2 -->\n      <g transform=\"translate(275.579891 199.032103)scale(0.1 -0.1)\">\n       <use xlink:href=\"#DejaVuSans-50\"/>\n      </g>\n     </g>\n    </g>\n    <g id=\"ytick_36\">\n     <g id=\"line2d_60\">\n      <g>\n       <use style=\"stroke:#000000;stroke-width:0.8;\" x=\"288.942391\" xlink:href=\"#m56a36966f4\" y=\"220.81406\"/>\n      </g>\n     </g>\n     <g id=\"text_60\">\n      <!-- 4 -->\n      <g transform=\"translate(275.579891 224.613279)scale(0.1 -0.1)\">\n       <use xlink:href=\"#DejaVuSans-52\"/>\n      </g>\n     </g>\n    </g>\n   </g>\n   <g id=\"patch_58\">\n    <path d=\"M 288.942391 227.209354 \nL 288.942391 163.256413 \n\" style=\"fill:none;stroke:#000000;stroke-linecap:square;stroke-linejoin:miter;stroke-width:0.8;\"/>\n   </g>\n   <g id=\"patch_59\">\n    <path d=\"M 352.895332 227.209354 \nL 352.895332 163.256413 \n\" style=\"fill:none;stroke:#000000;stroke-linecap:square;stroke-linejoin:miter;stroke-width:0.8;\"/>\n   </g>\n   <g id=\"patch_60\">\n    <path d=\"M 288.942391 227.209354 \nL 352.895332 227.209354 \n\" style=\"fill:none;stroke:#000000;stroke-linecap:square;stroke-linejoin:miter;stroke-width:0.8;\"/>\n   </g>\n   <g id=\"patch_61\">\n    <path d=\"M 288.942391 163.256413 \nL 352.895332 163.256413 \n\" style=\"fill:none;stroke:#000000;stroke-linecap:square;stroke-linejoin:miter;stroke-width:0.8;\"/>\n   </g>\n  </g>\n </g>\n <defs>\n  <clipPath id=\"pee2850a933\">\n   <rect height=\"63.952941\" width=\"63.952941\" x=\"26.925\" y=\"9.769354\"/>\n  </clipPath>\n  <clipPath id=\"pc7d724bbc8\">\n   <rect height=\"63.952941\" width=\"63.952941\" x=\"114.26413\" y=\"9.769354\"/>\n  </clipPath>\n  <clipPath id=\"p86ba2d3859\">\n   <rect height=\"63.952941\" width=\"63.952941\" x=\"201.603261\" y=\"9.769354\"/>\n  </clipPath>\n  <clipPath id=\"pd3b84fc29a\">\n   <rect height=\"63.952941\" width=\"63.952941\" x=\"288.942391\" y=\"9.769354\"/>\n  </clipPath>\n  <clipPath id=\"p102931dca5\">\n   <rect height=\"63.952941\" width=\"63.952941\" x=\"26.925\" y=\"86.512884\"/>\n  </clipPath>\n  <clipPath id=\"p7fa604c5f0\">\n   <rect height=\"63.952941\" width=\"63.952941\" x=\"114.26413\" y=\"86.512884\"/>\n  </clipPath>\n  <clipPath id=\"paa958cc135\">\n   <rect height=\"63.952941\" width=\"63.952941\" x=\"201.603261\" y=\"86.512884\"/>\n  </clipPath>\n  <clipPath id=\"pe315bfd4df\">\n   <rect height=\"63.952941\" width=\"63.952941\" x=\"288.942391\" y=\"86.512884\"/>\n  </clipPath>\n  <clipPath id=\"pb23646dc56\">\n   <rect height=\"63.952941\" width=\"63.952941\" x=\"26.925\" y=\"163.256413\"/>\n  </clipPath>\n  <clipPath id=\"p6f6a5b74fd\">\n   <rect height=\"63.952941\" width=\"63.952941\" x=\"114.26413\" y=\"163.256413\"/>\n  </clipPath>\n  <clipPath id=\"pa1612babc2\">\n   <rect height=\"63.952941\" width=\"63.952941\" x=\"201.603261\" y=\"163.256413\"/>\n  </clipPath>\n  <clipPath id=\"p488c17c67d\">\n   <rect height=\"63.952941\" width=\"63.952941\" x=\"288.942391\" y=\"163.256413\"/>\n  </clipPath>\n </defs>\n</svg>\n",
            "image/png": "[encoded data removed]"
          },
          "metadata": {
            "needs_background": "light"
          }
        }
      ],
      "source": [
        "import matplotlib.pyplot as plt\n",
        "from tensorflow.keras import models\n",
        "\n",
        "f, axarr = plt.subplots(3,4)\n",
        "FIRST_IMAGE=0\n",
        "SECOND_IMAGE=23\n",
        "THIRD_IMAGE=28\n",
        "CONVOLUTION_NUMBER = 32\n",
        "\n",
        "layer_outputs = [layer.output for layer in model.layers]\n",
        "activation_model = tf.keras.models.Model(inputs = model.input, outputs = layer_outputs)\n",
        "for x in range(4):\n",
        "  for i, img in enumerate([FIRST_IMAGE, SECOND_IMAGE, THIRD_IMAGE]):\n",
        "    f = activation_model.predict(test_images[img].reshape(1, 28, 28, 1))[x]\n",
        "    axarr[i,x].imshow(f[0, : , :, CONVOLUTION_NUMBER], cmap='inferno')\n",
        "    axarr[i,x].grid(False)\n",
        "   "
      ]
    },
    {
      "cell_type": "markdown",
      "metadata": {
        "colab_type": "text",
        "id": "8KVPZqgHo5Ux"
      },
      "source": [
        "EXERCISES\n",
        "\n",
        "1. Try editing the convolutions. Change the 32s to either 16 or 64. What impact will this have on accuracy and/or training time.\n",
        "\n",
        "2. Remove the final Convolution. What impact will this have on accuracy or training time?\n",
        "\n",
        "3. How about adding more Convolutions? What impact do you think this will have? Experiment with it.\n",
        "\n",
        "4. Remove all Convolutions but the first. What impact do you think this will have? Experiment with it. \n",
        "\n",
        "5. In the previous lesson you implemented a callback to check on the loss function and to cancel training once it hit a certain amount. See if you can implement that here!"
      ]
    },
    {
      "cell_type": "code",
      "execution_count": 24,
      "metadata": {
        "colab": {
          "height": 415
        },
        "colab_type": "code",
        "id": "ZpYRidBXpBPM",
        "outputId": "70c1f9f2-880c-4923-9887-8f1d4c6b8383",
        "tags": []
      },
      "outputs": [
        {
          "output_type": "stream",
          "name": "stdout",
          "text": "Epoch 1/5\n1875/1875 [==============================] - 22s 12ms/step - loss: 0.1295 - accuracy: 0.9614\nEpoch 2/5\n1875/1875 [==============================] - 22s 12ms/step - loss: 0.0420 - accuracy: 0.9870\nEpoch 3/5\n1872/1875 [============================>.] - ETA: 0s - loss: 0.0281 - accuracy: 0.9910\n95% Accuracy Reached\n1875/1875 [==============================] - 23s 13ms/step - loss: 0.0282 - accuracy: 0.9910\n313/313 [==============================] - 1s 2ms/step - loss: 0.0320 - accuracy: 0.9897\n0.9897000193595886\n"
        }
      ],
      "source": [
        "import tensorflow as tf\n",
        "from tensorflow import keras\n",
        "\n",
        "# Callback\n",
        "class mnistCallback(tf.keras.callbacks.Callback):\n",
        "  def on_epoch_end(self, epoch, logs={}):\n",
        "    if (logs.get('accuracy') > .99 ):\n",
        "      self.model.stop_training = True\n",
        "      print('\\n95% Accuracy Reached')\n",
        "\n",
        "callback = mnistCallback()\n",
        "\n",
        "# Get Data, reshape and normalize\n",
        "(x_train, y_train),(x_test, y_test) = tf.keras.datasets.mnist.load_data()\n",
        "x_train = x_train.reshape(60000, 28, 28, 1) / 255.0\n",
        "x_test = x_test.reshape(10000, 28, 28, 1) / 255.0\n",
        "\n",
        "model = keras.models.Sequential([\n",
        "  keras.layers.Conv2D(32, (3,3), activation='relu', input_shape=(28,28,1)),\n",
        "  keras.layers.MaxPool2D(2,2),\n",
        "  keras.layers.Conv2D(64, (3,3), activation='relu'),\n",
        "  keras.layers.MaxPool2D(2,2),\n",
        "  keras.layers.Flatten(),\n",
        "  keras.layers.Dense(128, activation='relu'),\n",
        "  keras.layers.Dense(10, activation='softmax')\n",
        "])\n",
        "model.compile(optimizer='adam',\n",
        "  loss='sparse_categorical_crossentropy',\n",
        "  metrics=['accuracy'])\n",
        "model.fit(x_train, y_train, epochs=5, callbacks=[callback] )\n",
        "\n",
        "# Evaluate\n",
        "test_loss, test_acc = model.evaluate(x_test, y_test)\n",
        "print(test_acc)"
      ]
    },
    {
      "cell_type": "code",
      "execution_count": 25,
      "metadata": {
        "tags": []
      },
      "outputs": [
        {
          "output_type": "stream",
          "name": "stdout",
          "text": "Epoch 1/5\n1875/1875 [==============================] - 15s 8ms/step - loss: 0.1438 - accuracy: 0.9581\nEpoch 2/5\n1875/1875 [==============================] - 15s 8ms/step - loss: 0.0491 - accuracy: 0.9850\nEpoch 3/5\n1875/1875 [==============================] - 15s 8ms/step - loss: 0.0329 - accuracy: 0.9894\nEpoch 4/5\n1874/1875 [============================>.] - ETA: 0s - loss: 0.0210 - accuracy: 0.9933\n95% Accuracy Reached\n1875/1875 [==============================] - 15s 8ms/step - loss: 0.0210 - accuracy: 0.9933\n313/313 [==============================] - 0s 2ms/step - loss: 0.0437 - accuracy: 0.9862\n0.9861999750137329\n"
        }
      ],
      "source": [
        "import tensorflow as tf\n",
        "from tensorflow import keras\n",
        "\n",
        "# Callback\n",
        "class mnistCallback(tf.keras.callbacks.Callback):\n",
        "  def on_epoch_end(self, epoch, logs={}):\n",
        "    if (logs.get('accuracy') > .99 ):\n",
        "      self.model.stop_training = True\n",
        "      print('\\n95% Accuracy Reached')\n",
        "\n",
        "callback = mnistCallback()\n",
        "\n",
        "# Get Data, reshape and normalize\n",
        "(x_train, y_train),(x_test, y_test) = tf.keras.datasets.mnist.load_data()\n",
        "x_train = x_train.reshape(60000, 28, 28, 1) / 255.0\n",
        "x_test = x_test.reshape(10000, 28, 28, 1) / 255.0\n",
        "\n",
        "model = keras.models.Sequential([\n",
        "  keras.layers.Conv2D(32, (3,3), activation='relu', input_shape=(28,28,1)),\n",
        "  keras.layers.MaxPool2D(2,2),\n",
        "  keras.layers.Flatten(),\n",
        "  keras.layers.Dense(128, activation='relu'),\n",
        "  keras.layers.Dense(10, activation='softmax')\n",
        "])\n",
        "model.compile(optimizer='adam',\n",
        "  loss='sparse_categorical_crossentropy',\n",
        "  metrics=['accuracy'])\n",
        "model.fit(x_train, y_train, epochs=5, callbacks=[callback] )\n",
        "\n",
        "# Evaluate\n",
        "test_loss, test_acc = model.evaluate(x_test, y_test)\n",
        "print(test_acc)"
      ]
    },
    {
      "cell_type": "code",
      "execution_count": 26,
      "metadata": {
        "tags": []
      },
      "outputs": [
        {
          "output_type": "stream",
          "name": "stdout",
          "text": "Epoch 1/5\n1875/1875 [==============================] - 16s 8ms/step - loss: 0.1412 - accuracy: 0.9555\nEpoch 2/5\n1875/1875 [==============================] - 15s 8ms/step - loss: 0.0465 - accuracy: 0.9857\nEpoch 3/5\n1875/1875 [==============================] - 16s 9ms/step - loss: 0.0331 - accuracy: 0.9898\nEpoch 4/5\n1873/1875 [============================>.] - ETA: 0s - loss: 0.0244 - accuracy: 0.9922\n95% Accuracy Reached\n1875/1875 [==============================] - 16s 9ms/step - loss: 0.0244 - accuracy: 0.9922\n313/313 [==============================] - 1s 2ms/step - loss: 0.0371 - accuracy: 0.9879\n0.9879000186920166\n"
        }
      ],
      "source": [
        "import tensorflow as tf\n",
        "from tensorflow import keras\n",
        "\n",
        "# Callback\n",
        "class mnistCallback(tf.keras.callbacks.Callback):\n",
        "  def on_epoch_end(self, epoch, logs={}):\n",
        "    if (logs.get('accuracy') > .99 ):\n",
        "      self.model.stop_training = True\n",
        "      print('\\n95% Accuracy Reached')\n",
        "\n",
        "callback = mnistCallback()\n",
        "\n",
        "# Get Data, reshape and normalize\n",
        "(x_train, y_train),(x_test, y_test) = tf.keras.datasets.mnist.load_data()\n",
        "x_train = x_train.reshape(60000, 28, 28, 1) / 255.0\n",
        "x_test = x_test.reshape(10000, 28, 28, 1) / 255.0\n",
        "\n",
        "model = keras.models.Sequential([\n",
        "  keras.layers.Conv2D(16, (3,3), activation='relu', input_shape=(28,28,1)),\n",
        "  keras.layers.MaxPool2D(2,2),\n",
        "  keras.layers.Conv2D(64, (3,3), activation='relu'),\n",
        "  keras.layers.MaxPool2D(2,2),\n",
        "  keras.layers.Flatten(),\n",
        "  keras.layers.Dense(128, activation='relu'),\n",
        "  keras.layers.Dense(10, activation='softmax')\n",
        "])\n",
        "model.compile(optimizer='adam',\n",
        "  loss='sparse_categorical_crossentropy',\n",
        "  metrics=['accuracy'])\n",
        "model.fit(x_train, y_train, epochs=5, callbacks=[callback] )\n",
        "\n",
        "# Evaluate\n",
        "test_loss, test_acc = model.evaluate(x_test, y_test)\n",
        "print(test_acc)"
      ]
    },
    {
      "cell_type": "code",
      "execution_count": 27,
      "metadata": {
        "tags": []
      },
      "outputs": [
        {
          "output_type": "stream",
          "name": "stdout",
          "text": "Epoch 1/5\n1875/1875 [==============================] - 41s 22ms/step - loss: 0.1289 - accuracy: 0.9601\nEpoch 2/5\n1875/1875 [==============================] - 41s 22ms/step - loss: 0.0432 - accuracy: 0.9863\nEpoch 3/5\n1874/1875 [============================>.] - ETA: 0s - loss: 0.0291 - accuracy: 0.9908\n95% Accuracy Reached\n1875/1875 [==============================] - 35s 19ms/step - loss: 0.0291 - accuracy: 0.9908\n313/313 [==============================] - 1s 3ms/step - loss: 0.0306 - accuracy: 0.9905\n0.9904999732971191\n"
        }
      ],
      "source": [
        "import tensorflow as tf\n",
        "from tensorflow import keras\n",
        "\n",
        "# Callback\n",
        "class mnistCallback(tf.keras.callbacks.Callback):\n",
        "  def on_epoch_end(self, epoch, logs={}):\n",
        "    if (logs.get('accuracy') > .99 ):\n",
        "      self.model.stop_training = True\n",
        "      print('\\n95% Accuracy Reached')\n",
        "\n",
        "callback = mnistCallback()\n",
        "\n",
        "# Get Data, reshape and normalize\n",
        "(x_train, y_train),(x_test, y_test) = tf.keras.datasets.mnist.load_data()\n",
        "x_train = x_train.reshape(60000, 28, 28, 1) / 255.0\n",
        "x_test = x_test.reshape(10000, 28, 28, 1) / 255.0\n",
        "\n",
        "model = keras.models.Sequential([\n",
        "  keras.layers.Conv2D(64, (3,3), activation='relu', input_shape=(28,28,1)),\n",
        "  keras.layers.MaxPool2D(2,2),\n",
        "  keras.layers.Conv2D(64, (3,3), activation='relu'),\n",
        "  keras.layers.MaxPool2D(2,2),\n",
        "  keras.layers.Flatten(),\n",
        "  keras.layers.Dense(128, activation='relu'),\n",
        "  keras.layers.Dense(10, activation='softmax')\n",
        "])\n",
        "model.compile(optimizer='adam',\n",
        "  loss='sparse_categorical_crossentropy',\n",
        "  metrics=['accuracy'])\n",
        "model.fit(x_train, y_train, epochs=5, callbacks=[callback] )\n",
        "\n",
        "# Evaluate\n",
        "test_loss, test_acc = model.evaluate(x_test, y_test)\n",
        "print(test_acc)"
      ]
    },
    {
      "cell_type": "code",
      "execution_count": null,
      "metadata": {},
      "outputs": [],
      "source": []
    }
  ],
  "metadata": {
    "colab": {
      "collapsed_sections": [],
      "include_colab_link": true,
      "name": "Course 1 - Part 6 - Lesson 2 - Notebook.ipynb",
      "provenance": [],
      "toc_visible": true
    },
    "kernelspec": {
      "display_name": "Python 3.7.7 64-bit",
      "name": "python37764bit365169af7bd545d28c981927ca7c3295"
    }
  },
  "nbformat": 4,
  "nbformat_minor": 0
}