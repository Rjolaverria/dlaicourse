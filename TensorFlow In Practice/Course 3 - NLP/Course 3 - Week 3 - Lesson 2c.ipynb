{
 "cells": [
  {
   "cell_type": "code",
   "execution_count": 0,
   "metadata": {
    "colab": {},
    "colab_type": "code",
    "id": "zX4Kg8DUTKWO"
   },
   "outputs": [],
   "source": [
    "#@title Licensed under the Apache License, Version 2.0 (the \"License\");\n",
    "# you may not use this file except in compliance with the License.\n",
    "# You may obtain a copy of the License at\n",
    "#\n",
    "# https://www.apache.org/licenses/LICENSE-2.0\n",
    "#\n",
    "# Unless required by applicable law or agreed to in writing, software\n",
    "# distributed under the License is distributed on an \"AS IS\" BASIS,\n",
    "# WITHOUT WARRANTIES OR CONDITIONS OF ANY KIND, either express or implied.\n",
    "# See the License for the specific language governing permissions and\n",
    "# limitations under the License."
   ]
  },
  {
   "cell_type": "markdown",
   "metadata": {},
   "source": [
    "<a href=\"https://colab.research.google.com/github/lmoroney/dlaicourse/blob/master/TensorFlow%20In%20Practice/Course%203%20-%20NLP/Course%203%20-%20Week%203%20-%20Lesson%202c.ipynb\" target=\"_parent\"><img src=\"https://colab.research.google.com/assets/colab-badge.svg\" alt=\"Open In Colab\"/></a>"
   ]
  },
  {
   "cell_type": "code",
   "execution_count": 1,
   "metadata": {
    "colab": {},
    "colab_type": "code",
    "id": "jGwXGIXvFhXW",
    "tags": []
   },
   "outputs": [
    {
     "output_type": "stream",
     "name": "stdout",
     "text": "--2020-09-29 13:48:14--  https://storage.googleapis.com/laurencemoroney-blog.appspot.com/sarcasm.json\nResolving storage.googleapis.com (storage.googleapis.com)... 172.217.165.144, 172.217.10.112, 172.217.11.16, ...\nConnecting to storage.googleapis.com (storage.googleapis.com)|172.217.165.144|:443... connected.\nHTTP request sent, awaiting response... 200 OK\nLength: 5643545 (5.4M) [application/json]\nSaving to: ‘/tmp/sarcasm.json’\n\n/tmp/sarcasm.json   100%[===================>]   5.38M  10.7MB/s    in 0.5s    \n\n2020-09-29 13:48:15 (10.7 MB/s) - ‘/tmp/sarcasm.json’ saved [5643545/5643545]\n\nModel: \"sequential\"\n_________________________________________________________________\nLayer (type)                 Output Shape              Param #   \n=================================================================\nembedding (Embedding)        (None, 120, 16)           16000     \n_________________________________________________________________\nconv1d (Conv1D)              (None, 116, 128)          10368     \n_________________________________________________________________\nglobal_max_pooling1d (Global (None, 128)               0         \n_________________________________________________________________\ndense (Dense)                (None, 24)                3096      \n_________________________________________________________________\ndense_1 (Dense)              (None, 1)                 25        \n=================================================================\nTotal params: 29,489\nTrainable params: 29,489\nNon-trainable params: 0\n_________________________________________________________________\nEpoch 1/50\n625/625 [==============================] - 3s 6ms/step - loss: 0.4734 - accuracy: 0.7629 - val_loss: 0.4047 - val_accuracy: 0.8146\nEpoch 2/50\n625/625 [==============================] - 3s 6ms/step - loss: 0.3599 - accuracy: 0.8379 - val_loss: 0.3928 - val_accuracy: 0.8211\nEpoch 3/50\n625/625 [==============================] - 3s 6ms/step - loss: 0.3226 - accuracy: 0.8583 - val_loss: 0.3918 - val_accuracy: 0.8252\nEpoch 4/50\n625/625 [==============================] - 4s 6ms/step - loss: 0.2893 - accuracy: 0.8755 - val_loss: 0.4172 - val_accuracy: 0.8204\nEpoch 5/50\n625/625 [==============================] - 4s 6ms/step - loss: 0.2590 - accuracy: 0.8908 - val_loss: 0.4230 - val_accuracy: 0.8217\nEpoch 6/50\n625/625 [==============================] - 4s 6ms/step - loss: 0.2272 - accuracy: 0.9078 - val_loss: 0.4441 - val_accuracy: 0.8156\nEpoch 7/50\n625/625 [==============================] - 4s 6ms/step - loss: 0.1975 - accuracy: 0.9213 - val_loss: 0.4871 - val_accuracy: 0.8170\nEpoch 8/50\n625/625 [==============================] - 4s 6ms/step - loss: 0.1655 - accuracy: 0.9377 - val_loss: 0.5274 - val_accuracy: 0.8085\nEpoch 9/50\n625/625 [==============================] - 4s 6ms/step - loss: 0.1369 - accuracy: 0.9499 - val_loss: 0.6022 - val_accuracy: 0.8009\nEpoch 10/50\n625/625 [==============================] - 4s 6ms/step - loss: 0.1114 - accuracy: 0.9610 - val_loss: 0.6629 - val_accuracy: 0.8001\nEpoch 11/50\n625/625 [==============================] - 4s 6ms/step - loss: 0.0929 - accuracy: 0.9686 - val_loss: 0.7419 - val_accuracy: 0.7952\nEpoch 12/50\n625/625 [==============================] - 4s 6ms/step - loss: 0.0808 - accuracy: 0.9714 - val_loss: 0.8319 - val_accuracy: 0.7948\nEpoch 13/50\n625/625 [==============================] - 4s 6ms/step - loss: 0.0649 - accuracy: 0.9776 - val_loss: 0.9285 - val_accuracy: 0.7959\nEpoch 14/50\n625/625 [==============================] - 4s 6ms/step - loss: 0.0577 - accuracy: 0.9790 - val_loss: 1.0252 - val_accuracy: 0.7946\nEpoch 15/50\n625/625 [==============================] - 4s 6ms/step - loss: 0.0508 - accuracy: 0.9817 - val_loss: 1.0943 - val_accuracy: 0.7897\nEpoch 16/50\n625/625 [==============================] - 4s 6ms/step - loss: 0.0473 - accuracy: 0.9822 - val_loss: 1.2844 - val_accuracy: 0.7836\nEpoch 17/50\n625/625 [==============================] - 4s 6ms/step - loss: 0.0428 - accuracy: 0.9845 - val_loss: 1.2691 - val_accuracy: 0.7894\nEpoch 18/50\n625/625 [==============================] - 4s 6ms/step - loss: 0.0394 - accuracy: 0.9851 - val_loss: 1.2561 - val_accuracy: 0.7860\nEpoch 19/50\n625/625 [==============================] - 4s 6ms/step - loss: 0.0355 - accuracy: 0.9863 - val_loss: 1.3994 - val_accuracy: 0.7870\nEpoch 20/50\n625/625 [==============================] - 4s 6ms/step - loss: 0.0355 - accuracy: 0.9866 - val_loss: 1.5016 - val_accuracy: 0.7898\nEpoch 21/50\n625/625 [==============================] - 4s 6ms/step - loss: 0.0356 - accuracy: 0.9859 - val_loss: 1.5397 - val_accuracy: 0.7873\nEpoch 22/50\n625/625 [==============================] - 4s 6ms/step - loss: 0.0357 - accuracy: 0.9855 - val_loss: 1.5919 - val_accuracy: 0.7910\nEpoch 23/50\n625/625 [==============================] - 4s 6ms/step - loss: 0.0320 - accuracy: 0.9878 - val_loss: 1.6470 - val_accuracy: 0.7861\nEpoch 24/50\n625/625 [==============================] - 4s 6ms/step - loss: 0.0260 - accuracy: 0.9895 - val_loss: 1.7625 - val_accuracy: 0.7848\nEpoch 25/50\n625/625 [==============================] - 4s 6ms/step - loss: 0.0271 - accuracy: 0.9887 - val_loss: 1.7823 - val_accuracy: 0.7894\nEpoch 26/50\n625/625 [==============================] - 4s 6ms/step - loss: 0.0303 - accuracy: 0.9877 - val_loss: 1.9147 - val_accuracy: 0.7824\nEpoch 27/50\n625/625 [==============================] - 4s 6ms/step - loss: 0.0307 - accuracy: 0.9873 - val_loss: 1.9272 - val_accuracy: 0.7804\nEpoch 28/50\n625/625 [==============================] - 4s 6ms/step - loss: 0.0270 - accuracy: 0.9891 - val_loss: 1.9363 - val_accuracy: 0.7867\nEpoch 29/50\n625/625 [==============================] - 4s 6ms/step - loss: 0.0266 - accuracy: 0.9885 - val_loss: 1.9751 - val_accuracy: 0.7860\nEpoch 30/50\n625/625 [==============================] - 4s 6ms/step - loss: 0.0256 - accuracy: 0.9894 - val_loss: 2.0229 - val_accuracy: 0.7861\nEpoch 31/50\n625/625 [==============================] - 4s 6ms/step - loss: 0.0222 - accuracy: 0.9907 - val_loss: 2.0547 - val_accuracy: 0.7843\nEpoch 32/50\n625/625 [==============================] - 4s 6ms/step - loss: 0.0217 - accuracy: 0.9908 - val_loss: 2.1005 - val_accuracy: 0.7834\nEpoch 33/50\n625/625 [==============================] - 4s 6ms/step - loss: 0.0260 - accuracy: 0.9893 - val_loss: 2.0888 - val_accuracy: 0.7872\nEpoch 34/50\n625/625 [==============================] - 4s 6ms/step - loss: 0.0268 - accuracy: 0.9890 - val_loss: 2.1534 - val_accuracy: 0.7857\nEpoch 35/50\n625/625 [==============================] - 4s 6ms/step - loss: 0.0227 - accuracy: 0.9903 - val_loss: 2.1384 - val_accuracy: 0.7834\nEpoch 36/50\n625/625 [==============================] - 4s 7ms/step - loss: 0.0240 - accuracy: 0.9902 - val_loss: 2.1040 - val_accuracy: 0.7855\nEpoch 37/50\n625/625 [==============================] - 4s 6ms/step - loss: 0.0195 - accuracy: 0.9916 - val_loss: 2.2001 - val_accuracy: 0.7833\nEpoch 38/50\n625/625 [==============================] - 4s 6ms/step - loss: 0.0224 - accuracy: 0.9908 - val_loss: 2.2418 - val_accuracy: 0.7831\nEpoch 39/50\n625/625 [==============================] - 4s 6ms/step - loss: 0.0184 - accuracy: 0.9919 - val_loss: 2.2821 - val_accuracy: 0.7864\nEpoch 40/50\n625/625 [==============================] - 4s 6ms/step - loss: 0.0210 - accuracy: 0.9906 - val_loss: 2.3286 - val_accuracy: 0.7855\nEpoch 41/50\n625/625 [==============================] - 4s 6ms/step - loss: 0.0241 - accuracy: 0.9900 - val_loss: 2.4550 - val_accuracy: 0.7816\nEpoch 42/50\n625/625 [==============================] - 4s 6ms/step - loss: 0.0284 - accuracy: 0.9887 - val_loss: 2.4386 - val_accuracy: 0.7901\nEpoch 43/50\n625/625 [==============================] - 4s 7ms/step - loss: 0.0201 - accuracy: 0.9908 - val_loss: 2.4056 - val_accuracy: 0.7840\nEpoch 44/50\n625/625 [==============================] - 4s 7ms/step - loss: 0.0227 - accuracy: 0.9904 - val_loss: 2.3692 - val_accuracy: 0.7898\nEpoch 45/50\n625/625 [==============================] - 4s 7ms/step - loss: 0.0254 - accuracy: 0.9899 - val_loss: 2.4412 - val_accuracy: 0.7882\nEpoch 46/50\n625/625 [==============================] - 4s 7ms/step - loss: 0.0236 - accuracy: 0.9900 - val_loss: 2.4651 - val_accuracy: 0.7886\nEpoch 47/50\n625/625 [==============================] - 4s 7ms/step - loss: 0.0191 - accuracy: 0.9916 - val_loss: 2.4205 - val_accuracy: 0.7885\nEpoch 48/50\n625/625 [==============================] - 4s 7ms/step - loss: 0.0173 - accuracy: 0.9918 - val_loss: 2.6563 - val_accuracy: 0.7834\nEpoch 49/50\n625/625 [==============================] - 4s 7ms/step - loss: 0.0208 - accuracy: 0.9913 - val_loss: 2.6460 - val_accuracy: 0.7810\nEpoch 50/50\n625/625 [==============================] - 4s 7ms/step - loss: 0.0215 - accuracy: 0.9905 - val_loss: 2.5420 - val_accuracy: 0.7839\n"
    }
   ],
   "source": [
    "import numpy as np\n",
    "\n",
    "import json\n",
    "import tensorflow as tf\n",
    "\n",
    "from tensorflow.keras.preprocessing.text import Tokenizer\n",
    "from tensorflow.keras.preprocessing.sequence import pad_sequences\n",
    "\n",
    "!wget --no-check-certificate \\\n",
    "    https://storage.googleapis.com/laurencemoroney-blog.appspot.com/sarcasm.json \\\n",
    "    -O /tmp/sarcasm.json\n",
    "\n",
    "vocab_size = 1000\n",
    "embedding_dim = 16\n",
    "max_length = 120\n",
    "trunc_type='post'\n",
    "padding_type='post'\n",
    "oov_tok = \"<OOV>\"\n",
    "training_size = 20000\n",
    "\n",
    "\n",
    "with open(\"/tmp/sarcasm.json\", 'r') as f:\n",
    "    datastore = json.load(f)\n",
    "\n",
    "\n",
    "sentences = []\n",
    "labels = []\n",
    "urls = []\n",
    "for item in datastore:\n",
    "    sentences.append(item['headline'])\n",
    "    labels.append(item['is_sarcastic'])\n",
    "\n",
    "training_sentences = sentences[0:training_size]\n",
    "testing_sentences = sentences[training_size:]\n",
    "training_labels = labels[0:training_size]\n",
    "testing_labels = labels[training_size:]\n",
    "\n",
    "tokenizer = Tokenizer(num_words=vocab_size, oov_token=oov_tok)\n",
    "tokenizer.fit_on_texts(training_sentences)\n",
    "\n",
    "word_index = tokenizer.word_index\n",
    "\n",
    "training_sequences = tokenizer.texts_to_sequences(training_sentences)\n",
    "training_padded = pad_sequences(training_sequences, maxlen=max_length, padding=padding_type, truncating=trunc_type)\n",
    "\n",
    "testing_sequences = tokenizer.texts_to_sequences(testing_sentences)\n",
    "testing_padded = pad_sequences(testing_sequences, maxlen=max_length, padding=padding_type, truncating=trunc_type)\n",
    "\n",
    "model = tf.keras.Sequential([\n",
    "    tf.keras.layers.Embedding(vocab_size, embedding_dim, input_length=max_length),\n",
    "    tf.keras.layers.Conv1D(128, 5, activation='relu'),\n",
    "    tf.keras.layers.GlobalMaxPooling1D(),\n",
    "    tf.keras.layers.Dense(24, activation='relu'),\n",
    "    tf.keras.layers.Dense(1, activation='sigmoid')\n",
    "])\n",
    "model.compile(loss='binary_crossentropy',optimizer='adam',metrics=['accuracy'])\n",
    "model.summary()\n",
    "\n",
    "num_epochs = 50\n",
    "\n",
    "training_padded = np.array(training_padded)\n",
    "training_labels = np.array(training_labels)\n",
    "testing_padded = np.array(testing_padded)\n",
    "testing_labels = np.array(testing_labels)\n",
    "\n",
    "history = model.fit(training_padded, training_labels, epochs=num_epochs, validation_data=(testing_padded, testing_labels), verbose=1)\n"
   ]
  },
  {
   "cell_type": "code",
   "execution_count": 0,
   "metadata": {
    "colab": {},
    "colab_type": "code",
    "id": "g9DC6dmLF8DC"
   },
   "outputs": [],
   "source": [
    "import matplotlib.pyplot as plt\n",
    "\n",
    "\n",
    "def plot_graphs(history, string):\n",
    "  plt.plot(history.history[string])\n",
    "  plt.plot(history.history['val_'+string])\n",
    "  plt.xlabel(\"Epochs\")\n",
    "  plt.ylabel(string)\n",
    "  plt.legend([string, 'val_'+string])\n",
    "  plt.show()\n",
    "\n",
    "plot_graphs(history, 'accuracy')\n",
    "plot_graphs(history, 'loss')"
   ]
  },
  {
   "cell_type": "code",
   "execution_count": 0,
   "metadata": {
    "colab": {},
    "colab_type": "code",
    "id": "7ZEZIUppGhdi"
   },
   "outputs": [],
   "source": [
    "model.save(\"test.h5\")"
   ]
  }
 ],
 "metadata": {
  "accelerator": "GPU",
  "colab": {
   "collapsed_sections": [],
   "name": "Course 3 - Week 3 - Lesson 2c.ipynb",
   "provenance": [],
   "toc_visible": true,
   "version": "0.3.2"
  },
  "kernelspec": {
   "name": "python37764bit365169af7bd545d28c981927ca7c3295",
   "display_name": "Python 3.7.7 64-bit",
   "metadata": {
    "interpreter": {
     "hash": "31f2aee4e71d21fbe5cf8b01ff0e069b9275f58929596ceb00d14d90e3e16cd6"
    }
   }
  },
  "language_info": {
   "codemirror_mode": {
    "name": "ipython",
    "version": 3
   },
   "file_extension": ".py",
   "mimetype": "text/x-python",
   "name": "python",
   "nbconvert_exporter": "python",
   "pygments_lexer": "ipython3",
   "version": "3.8.5-final"
  }
 },
 "nbformat": 4,
 "nbformat_minor": 1
}